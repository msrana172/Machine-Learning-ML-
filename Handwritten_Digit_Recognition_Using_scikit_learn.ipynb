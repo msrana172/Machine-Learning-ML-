{
  "nbformat": 4,
  "nbformat_minor": 0,
  "metadata": {
    "colab": {
      "name": "Handwritten Digit Recognition Using scikit-learn.ipynb",
      "provenance": [],
      "authorship_tag": "ABX9TyM4MgRK+x/52jizGHPUZfx3",
      "include_colab_link": true
    },
    "kernelspec": {
      "name": "python3",
      "display_name": "Python 3"
    }
  },
  "cells": [
    {
      "cell_type": "markdown",
      "metadata": {
        "id": "view-in-github",
        "colab_type": "text"
      },
      "source": [
        "<a href=\"https://colab.research.google.com/github/msrana172/Machine-Learning-ML-/blob/master/Handwritten_Digit_Recognition_Using_scikit_learn.ipynb\" target=\"_parent\"><img src=\"https://colab.research.google.com/assets/colab-badge.svg\" alt=\"Open In Colab\"/></a>"
      ]
    },
    {
      "cell_type": "markdown",
      "metadata": {
        "id": "xID9DZykw8wi",
        "colab_type": "text"
      },
      "source": [
        "#### MNIST Dataset Digits Recognition"
      ]
    },
    {
      "cell_type": "code",
      "metadata": {
        "id": "TlXbsb7aYZpO",
        "colab_type": "code",
        "colab": {}
      },
      "source": [
        "import pandas as pd\n",
        "from sklearn.datasets import fetch_openml\n",
        "import warnings\n",
        "warnings.filterwarnings('ignore')"
      ],
      "execution_count": 0,
      "outputs": []
    },
    {
      "cell_type": "code",
      "metadata": {
        "id": "z_IuH1bPYsVW",
        "colab_type": "code",
        "colab": {}
      },
      "source": [
        "# Fetch the data with the help of sklearn.datasets\n",
        "mnist_data = fetch_openml('mnist_784')"
      ],
      "execution_count": 0,
      "outputs": []
    },
    {
      "cell_type": "code",
      "metadata": {
        "id": "6lSBqlRfZise",
        "colab_type": "code",
        "colab": {
          "base_uri": "https://localhost:8080/",
          "height": 157
        },
        "outputId": "54cf41b5-a18a-4d65-d370-2b6f253023a7"
      },
      "source": [
        "images, labels = mnist_data['data'], mnist_data['target']\n",
        "print(images)\n",
        "print(labels)"
      ],
      "execution_count": 3,
      "outputs": [
        {
          "output_type": "stream",
          "text": [
            "[[0. 0. 0. ... 0. 0. 0.]\n",
            " [0. 0. 0. ... 0. 0. 0.]\n",
            " [0. 0. 0. ... 0. 0. 0.]\n",
            " ...\n",
            " [0. 0. 0. ... 0. 0. 0.]\n",
            " [0. 0. 0. ... 0. 0. 0.]\n",
            " [0. 0. 0. ... 0. 0. 0.]]\n",
            "['5' '0' '4' ... '4' '5' '6']\n"
          ],
          "name": "stdout"
        }
      ]
    },
    {
      "cell_type": "code",
      "metadata": {
        "id": "CoffB3P5eqO-",
        "colab_type": "code",
        "colab": {
          "base_uri": "https://localhost:8080/",
          "height": 52
        },
        "outputId": "35ef0c0b-e40b-4815-b296-01c436162c4d"
      },
      "source": [
        "print(images.shape)\n",
        "print(labels.shape)"
      ],
      "execution_count": 4,
      "outputs": [
        {
          "output_type": "stream",
          "text": [
            "(70000, 784)\n",
            "(70000,)\n"
          ],
          "name": "stdout"
        }
      ]
    },
    {
      "cell_type": "markdown",
      "metadata": {
        "id": "Jt-KjHXVmY4h",
        "colab_type": "text"
      },
      "source": [
        "Show the digit in the form of image"
      ]
    },
    {
      "cell_type": "code",
      "metadata": {
        "id": "ONClfGpKhTdi",
        "colab_type": "code",
        "colab": {
          "base_uri": "https://localhost:8080/",
          "height": 282
        },
        "outputId": "1473bc9f-8139-4d70-fded-6875ceca71bf"
      },
      "source": [
        "import matplotlib.pyplot as plt\n",
        "digit = images[36032]\n",
        "digit_image = digit.reshape(28, 28)\n",
        "plt.imshow(digit_image, cmap = plt.cm.binary, interpolation = 'nearest') "
      ],
      "execution_count": 5,
      "outputs": [
        {
          "output_type": "execute_result",
          "data": {
            "text/plain": [
              "<matplotlib.image.AxesImage at 0x7fbc22695eb8>"
            ]
          },
          "metadata": {
            "tags": []
          },
          "execution_count": 5
        },
        {
          "output_type": "display_data",
          "data": {
            "image/png": "[encoded data removed]",
            "text/plain": [
              "<Figure size 432x288 with 1 Axes>"
            ]
          },
          "metadata": {
            "tags": [],
            "needs_background": "light"
          }
        }
      ]
    },
    {
      "cell_type": "markdown",
      "metadata": {
        "id": "vcDutbWhmP6F",
        "colab_type": "text"
      },
      "source": [
        "Split the data set Train and Test set"
      ]
    },
    {
      "cell_type": "code",
      "metadata": {
        "id": "6Uo-fCRDa3rB",
        "colab_type": "code",
        "colab": {}
      },
      "source": [
        "# Train on the first 10000 images:\n",
        "X_train = images[:10000]\n",
        "y_train = labels[:10000]\n",
        "\n",
        "# Test on the next 1000 images:\n",
        "X_test = images[10000:11000]\n",
        "y_test = labels[10000:11000]"
      ],
      "execution_count": 0,
      "outputs": []
    },
    {
      "cell_type": "code",
      "metadata": {
        "id": "CuQD90VLZ4Cn",
        "colab_type": "code",
        "colab": {}
      },
      "source": [
        "from sklearn.tree import DecisionTreeClassifier\n",
        "from sklearn.svm import LinearSVC\n",
        "from sklearn.linear_model import LogisticRegression\n",
        "# dtc = DecisionTreeClassifier()\n",
        "# scv = LinearSVC()\n",
        "Log_Reg = LogisticRegression()\n"
      ],
      "execution_count": 0,
      "outputs": []
    },
    {
      "cell_type": "markdown",
      "metadata": {
        "id": "Lx8ahKFNmn-f",
        "colab_type": "text"
      },
      "source": [
        "Train the model with the help of Decision Tree"
      ]
    },
    {
      "cell_type": "code",
      "metadata": {
        "id": "LRD5L4hPbQF9",
        "colab_type": "code",
        "colab": {
          "base_uri": "https://localhost:8080/",
          "height": 105
        },
        "outputId": "e30dbe9f-1fa0-4a5d-d1f1-f8f0ec0fc948"
      },
      "source": [
        "Log_Reg.fit(X_train, y_train)"
      ],
      "execution_count": 8,
      "outputs": [
        {
          "output_type": "execute_result",
          "data": {
            "text/plain": [
              "LogisticRegression(C=1.0, class_weight=None, dual=False, fit_intercept=True,\n",
              "                   intercept_scaling=1, l1_ratio=None, max_iter=100,\n",
              "                   multi_class='auto', n_jobs=None, penalty='l2',\n",
              "                   random_state=None, solver='lbfgs', tol=0.0001, verbose=0,\n",
              "                   warm_start=False)"
            ]
          },
          "metadata": {
            "tags": []
          },
          "execution_count": 8
        }
      ]
    },
    {
      "cell_type": "code",
      "metadata": {
        "id": "daEoZvGubb_n",
        "colab_type": "code",
        "colab": {
          "base_uri": "https://localhost:8080/",
          "height": 157
        },
        "outputId": "62c92f87-e4ff-4c23-bf45-63f88884ce5d"
      },
      "source": [
        "print(\"Compute predictions\")\n",
        "predicted = Log_Reg.predict(X_test)\n",
        "print(len(predicted))\n",
        "print(predicted[:100])"
      ],
      "execution_count": 9,
      "outputs": [
        {
          "output_type": "stream",
          "text": [
            "Compute predictions\n",
            "1000\n",
            "['3' '8' '7' '4' '3' '0' '1' '1' '5' '2' '0' '3' '2' '4' '7' '5' '2' '6'\n",
            " '4' '7' '1' '8' '0' '9' '8' '0' '0' '1' '9' '2' '5' '3' '6' '4' '3' '5'\n",
            " '6' '6' '9' '7' '1' '8' '2' '9' '2' '0' '7' '9' '8' '5' '7' '5' '3' '6'\n",
            " '8' '9' '5' '8' '1' '9' '4' '8' '5' '7' '4' '5' '8' '1' '1' '0' '9' '0'\n",
            " '2' '2' '3' '2' '6' '7' '2' '8' '0' '2' '2' '0' '2' '1' '9' '2' '9' '6'\n",
            " '2' '3' '5' '3' '9' '7' '7' '3' '1' '3']\n"
          ],
          "name": "stdout"
        }
      ]
    },
    {
      "cell_type": "code",
      "metadata": {
        "id": "WwPyx_5nimVV",
        "colab_type": "code",
        "colab": {
          "base_uri": "https://localhost:8080/",
          "height": 410
        },
        "outputId": "7f88fc81-95ed-48b6-cfd0-fe40e9c01559"
      },
      "source": [
        "# Compare te digits Actual vs Predicted\n",
        "comp_digit = pd.DataFrame({'Actual':y_test.flatten(), 'Predicted':predicted.flatten()})\n",
        "comp_digit"
      ],
      "execution_count": 10,
      "outputs": [
        {
          "output_type": "execute_result",
          "data": {
            "text/html": [
              "<div>\n",
              "<style scoped>\n",
              "    .dataframe tbody tr th:only-of-type {\n",
              "        vertical-align: middle;\n",
              "    }\n",
              "\n",
              "    .dataframe tbody tr th {\n",
              "        vertical-align: top;\n",
              "    }\n",
              "\n",
              "    .dataframe thead th {\n",
              "        text-align: right;\n",
              "    }\n",
              "</style>\n",
              "<table border=\"1\" class=\"dataframe\">\n",
              "  <thead>\n",
              "    <tr style=\"text-align: right;\">\n",
              "      <th></th>\n",
              "      <th>Actual</th>\n",
              "      <th>Predicted</th>\n",
              "    </tr>\n",
              "  </thead>\n",
              "  <tbody>\n",
              "    <tr>\n",
              "      <th>0</th>\n",
              "      <td>3</td>\n",
              "      <td>3</td>\n",
              "    </tr>\n",
              "    <tr>\n",
              "      <th>1</th>\n",
              "      <td>8</td>\n",
              "      <td>8</td>\n",
              "    </tr>\n",
              "    <tr>\n",
              "      <th>2</th>\n",
              "      <td>7</td>\n",
              "      <td>7</td>\n",
              "    </tr>\n",
              "    <tr>\n",
              "      <th>3</th>\n",
              "      <td>9</td>\n",
              "      <td>4</td>\n",
              "    </tr>\n",
              "    <tr>\n",
              "      <th>4</th>\n",
              "      <td>9</td>\n",
              "      <td>3</td>\n",
              "    </tr>\n",
              "    <tr>\n",
              "      <th>...</th>\n",
              "      <td>...</td>\n",
              "      <td>...</td>\n",
              "    </tr>\n",
              "    <tr>\n",
              "      <th>995</th>\n",
              "      <td>5</td>\n",
              "      <td>5</td>\n",
              "    </tr>\n",
              "    <tr>\n",
              "      <th>996</th>\n",
              "      <td>6</td>\n",
              "      <td>6</td>\n",
              "    </tr>\n",
              "    <tr>\n",
              "      <th>997</th>\n",
              "      <td>4</td>\n",
              "      <td>4</td>\n",
              "    </tr>\n",
              "    <tr>\n",
              "      <th>998</th>\n",
              "      <td>3</td>\n",
              "      <td>3</td>\n",
              "    </tr>\n",
              "    <tr>\n",
              "      <th>999</th>\n",
              "      <td>2</td>\n",
              "      <td>2</td>\n",
              "    </tr>\n",
              "  </tbody>\n",
              "</table>\n",
              "<p>1000 rows × 2 columns</p>\n",
              "</div>"
            ],
            "text/plain": [
              "    Actual Predicted\n",
              "0        3         3\n",
              "1        8         8\n",
              "2        7         7\n",
              "3        9         4\n",
              "4        9         3\n",
              "..     ...       ...\n",
              "995      5         5\n",
              "996      6         6\n",
              "997      4         4\n",
              "998      3         3\n",
              "999      2         2\n",
              "\n",
              "[1000 rows x 2 columns]"
            ]
          },
          "metadata": {
            "tags": []
          },
          "execution_count": 10
        }
      ]
    },
    {
      "cell_type": "code",
      "metadata": {
        "id": "5b50Lek1bxM7",
        "colab_type": "code",
        "colab": {
          "base_uri": "https://localhost:8080/",
          "height": 34
        },
        "outputId": "ecf84bf5-55e2-4914-cd01-65e004c9d3d1"
      },
      "source": [
        "# Check the accuracy\n",
        "from sklearn.metrics import accuracy_score\n",
        "print(\"Accuracy: \", accuracy_score(y_test, predicted))"
      ],
      "execution_count": 11,
      "outputs": [
        {
          "output_type": "stream",
          "text": [
            "Accuracy:  0.904\n"
          ],
          "name": "stdout"
        }
      ]
    },
    {
      "cell_type": "code",
      "metadata": {
        "id": "pGff7quXYLs0",
        "colab_type": "code",
        "colab": {}
      },
      "source": [
        ""
      ],
      "execution_count": 0,
      "outputs": []
    }
  ]
}