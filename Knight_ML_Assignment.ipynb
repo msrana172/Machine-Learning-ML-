{
  "nbformat": 4,
  "nbformat_minor": 0,
  "metadata": {
    "colab": {
      "name": "Knight_ML_Assignment.ipynb",
      "provenance": [],
      "mount_file_id": "14LmnBHqWpR4BwXJSWvh9MhSDgWLMhO0m",
      "authorship_tag": "ABX9TyNJ00cp+ryZoPm1r4uXjvEl",
      "include_colab_link": true
    },
    "kernelspec": {
      "name": "python3",
      "display_name": "Python 3"
    }
  },
  "cells": [
    {
      "cell_type": "markdown",
      "metadata": {
        "id": "view-in-github",
        "colab_type": "text"
      },
      "source": [
        "<a href=\"https://colab.research.google.com/github/msrana172/Machine-Learning-ML-/blob/master/Knight_ML_Assignment.ipynb\" target=\"_parent\"><img src=\"https://colab.research.google.com/assets/colab-badge.svg\" alt=\"Open In Colab\"/></a>"
      ]
    },
    {
      "cell_type": "code",
      "metadata": {
        "id": "I1zjSvmPPTvG",
        "colab_type": "code",
        "colab": {}
      },
      "source": [
        "import pandas as pd"
      ],
      "execution_count": 0,
      "outputs": []
    },
    {
      "cell_type": "code",
      "metadata": {
        "id": "QkYCVTJKbf14",
        "colab_type": "code",
        "colab": {}
      },
      "source": [
        "train_data = '/content/drive/My Drive/Knight ML Assignment/Data/train.csv'\n",
        "test_data = '/content/drive/My Drive/Knight ML Assignment/Data/test.csv'\n",
        "data = pd.read_csv(train_data)\n",
        "test_data = pd.read_csv(test_data)"
      ],
      "execution_count": 0,
      "outputs": []
    },
    {
      "cell_type": "code",
      "metadata": {
        "id": "hQKYLAwhdNoa",
        "colab_type": "code",
        "outputId": "ec041316-dd6d-44e5-f1f2-6c1aab887498",
        "colab": {
          "base_uri": "https://localhost:8080/",
          "height": 358
        }
      },
      "source": [
        "data.head()"
      ],
      "execution_count": 75,
      "outputs": [
        {
          "output_type": "execute_result",
          "data": {
            "text/html": [
              "<div>\n",
              "<style scoped>\n",
              "    .dataframe tbody tr th:only-of-type {\n",
              "        vertical-align: middle;\n",
              "    }\n",
              "\n",
              "    .dataframe tbody tr th {\n",
              "        vertical-align: top;\n",
              "    }\n",
              "\n",
              "    .dataframe thead th {\n",
              "        text-align: right;\n",
              "    }\n",
              "</style>\n",
              "<table border=\"1\" class=\"dataframe\">\n",
              "  <thead>\n",
              "    <tr style=\"text-align: right;\">\n",
              "      <th></th>\n",
              "      <th>user_name</th>\n",
              "      <th>country</th>\n",
              "      <th>review_title</th>\n",
              "      <th>review_description</th>\n",
              "      <th>designation</th>\n",
              "      <th>points</th>\n",
              "      <th>price</th>\n",
              "      <th>province</th>\n",
              "      <th>region_1</th>\n",
              "      <th>region_2</th>\n",
              "      <th>winery</th>\n",
              "      <th>variety</th>\n",
              "    </tr>\n",
              "  </thead>\n",
              "  <tbody>\n",
              "    <tr>\n",
              "      <th>0</th>\n",
              "      <td>NaN</td>\n",
              "      <td>Australia</td>\n",
              "      <td>Andrew Peace 2007 Peace Family Vineyard Chardo...</td>\n",
              "      <td>Classic Chardonnay aromas of apple, pear and h...</td>\n",
              "      <td>Peace Family Vineyard</td>\n",
              "      <td>83</td>\n",
              "      <td>10.0</td>\n",
              "      <td>Australia Other</td>\n",
              "      <td>South Eastern Australia</td>\n",
              "      <td>NaN</td>\n",
              "      <td>Andrew Peace</td>\n",
              "      <td>Chardonnay</td>\n",
              "    </tr>\n",
              "    <tr>\n",
              "      <th>1</th>\n",
              "      <td>@wawinereport</td>\n",
              "      <td>US</td>\n",
              "      <td>North by Northwest 2014 Red (Columbia Valley (...</td>\n",
              "      <td>This wine is near equal parts Syrah and Merlot...</td>\n",
              "      <td>NaN</td>\n",
              "      <td>89</td>\n",
              "      <td>15.0</td>\n",
              "      <td>Washington</td>\n",
              "      <td>Columbia Valley (WA)</td>\n",
              "      <td>Columbia Valley</td>\n",
              "      <td>North by Northwest</td>\n",
              "      <td>Red Blend</td>\n",
              "    </tr>\n",
              "    <tr>\n",
              "      <th>2</th>\n",
              "      <td>NaN</td>\n",
              "      <td>Italy</td>\n",
              "      <td>Renato Ratti 2007 Conca  (Barolo)</td>\n",
              "      <td>Barolo Conca opens with inky dark concentratio...</td>\n",
              "      <td>Conca</td>\n",
              "      <td>94</td>\n",
              "      <td>80.0</td>\n",
              "      <td>Piedmont</td>\n",
              "      <td>Barolo</td>\n",
              "      <td>NaN</td>\n",
              "      <td>Renato Ratti</td>\n",
              "      <td>Nebbiolo</td>\n",
              "    </tr>\n",
              "    <tr>\n",
              "      <th>3</th>\n",
              "      <td>@vossroger</td>\n",
              "      <td>France</td>\n",
              "      <td>Domaine l'Ancienne Cure 2010 L'Abbaye White (B...</td>\n",
              "      <td>It's impressive what a small addition of Sauvi...</td>\n",
              "      <td>L'Abbaye</td>\n",
              "      <td>87</td>\n",
              "      <td>22.0</td>\n",
              "      <td>Southwest France</td>\n",
              "      <td>Bergerac Sec</td>\n",
              "      <td>NaN</td>\n",
              "      <td>Domaine l'Ancienne Cure</td>\n",
              "      <td>Bordeaux-style White Blend</td>\n",
              "    </tr>\n",
              "    <tr>\n",
              "      <th>4</th>\n",
              "      <td>@vossroger</td>\n",
              "      <td>France</td>\n",
              "      <td>Château du Cèdre 2012 Le Cèdre Vintage Malbec ...</td>\n",
              "      <td>This ripe, sweet wine is rich and full of drie...</td>\n",
              "      <td>Le Cèdre Vintage</td>\n",
              "      <td>88</td>\n",
              "      <td>33.0</td>\n",
              "      <td>France Other</td>\n",
              "      <td>Vin de Liqueur</td>\n",
              "      <td>NaN</td>\n",
              "      <td>Château du Cèdre</td>\n",
              "      <td>Malbec</td>\n",
              "    </tr>\n",
              "  </tbody>\n",
              "</table>\n",
              "</div>"
            ],
            "text/plain": [
              "       user_name  ...                     variety\n",
              "0            NaN  ...                  Chardonnay\n",
              "1  @wawinereport  ...                   Red Blend\n",
              "2            NaN  ...                    Nebbiolo\n",
              "3     @vossroger  ...  Bordeaux-style White Blend\n",
              "4     @vossroger  ...                      Malbec\n",
              "\n",
              "[5 rows x 12 columns]"
            ]
          },
          "metadata": {
            "tags": []
          },
          "execution_count": 75
        }
      ]
    },
    {
      "cell_type": "code",
      "metadata": {
        "id": "kEBqZEkvkxpq",
        "colab_type": "code",
        "outputId": "e006bd18-c444-4d21-fe7e-abec434174ff",
        "colab": {
          "base_uri": "https://localhost:8080/",
          "height": 145
        }
      },
      "source": [
        "test_data.head(2)"
      ],
      "execution_count": 76,
      "outputs": [
        {
          "output_type": "execute_result",
          "data": {
            "text/html": [
              "<div>\n",
              "<style scoped>\n",
              "    .dataframe tbody tr th:only-of-type {\n",
              "        vertical-align: middle;\n",
              "    }\n",
              "\n",
              "    .dataframe tbody tr th {\n",
              "        vertical-align: top;\n",
              "    }\n",
              "\n",
              "    .dataframe thead th {\n",
              "        text-align: right;\n",
              "    }\n",
              "</style>\n",
              "<table border=\"1\" class=\"dataframe\">\n",
              "  <thead>\n",
              "    <tr style=\"text-align: right;\">\n",
              "      <th></th>\n",
              "      <th>user_name</th>\n",
              "      <th>country</th>\n",
              "      <th>review_title</th>\n",
              "      <th>review_description</th>\n",
              "      <th>designation</th>\n",
              "      <th>points</th>\n",
              "      <th>price</th>\n",
              "      <th>province</th>\n",
              "      <th>region_1</th>\n",
              "      <th>region_2</th>\n",
              "      <th>winery</th>\n",
              "    </tr>\n",
              "  </thead>\n",
              "  <tbody>\n",
              "    <tr>\n",
              "      <th>0</th>\n",
              "      <td>@paulgwine</td>\n",
              "      <td>US</td>\n",
              "      <td>Boedecker Cellars 2011 Athena Pinot Noir (Will...</td>\n",
              "      <td>Nicely differentiated from the companion Stewa...</td>\n",
              "      <td>Athena</td>\n",
              "      <td>88</td>\n",
              "      <td>35.0</td>\n",
              "      <td>Oregon</td>\n",
              "      <td>Willamette Valley</td>\n",
              "      <td>Willamette Valley</td>\n",
              "      <td>Boedecker Cellars</td>\n",
              "    </tr>\n",
              "    <tr>\n",
              "      <th>1</th>\n",
              "      <td>@wineschach</td>\n",
              "      <td>Argentina</td>\n",
              "      <td>Mendoza Vineyards 2012 Gran Reserva by Richard...</td>\n",
              "      <td>Charred, smoky, herbal aromas of blackberry tr...</td>\n",
              "      <td>Gran Reserva by Richard Bonvin</td>\n",
              "      <td>90</td>\n",
              "      <td>60.0</td>\n",
              "      <td>Mendoza Province</td>\n",
              "      <td>Mendoza</td>\n",
              "      <td>NaN</td>\n",
              "      <td>Mendoza Vineyards</td>\n",
              "    </tr>\n",
              "  </tbody>\n",
              "</table>\n",
              "</div>"
            ],
            "text/plain": [
              "     user_name    country  ...           region_2             winery\n",
              "0  @paulgwine          US  ...  Willamette Valley  Boedecker Cellars\n",
              "1  @wineschach  Argentina  ...                NaN  Mendoza Vineyards\n",
              "\n",
              "[2 rows x 11 columns]"
            ]
          },
          "metadata": {
            "tags": []
          },
          "execution_count": 76
        }
      ]
    },
    {
      "cell_type": "code",
      "metadata": {
        "id": "xBGvEczedmsi",
        "colab_type": "code",
        "outputId": "df5e6caa-9e11-4a7e-c4c7-d1c6675e1ec8",
        "colab": {
          "base_uri": "https://localhost:8080/",
          "height": 87
        }
      },
      "source": [
        "data.columns"
      ],
      "execution_count": 77,
      "outputs": [
        {
          "output_type": "execute_result",
          "data": {
            "text/plain": [
              "Index(['user_name', 'country', 'review_title', 'review_description',\n",
              "       'designation', 'points', 'price', 'province', 'region_1', 'region_2',\n",
              "       'winery', 'variety'],\n",
              "      dtype='object')"
            ]
          },
          "metadata": {
            "tags": []
          },
          "execution_count": 77
        }
      ]
    },
    {
      "cell_type": "code",
      "metadata": {
        "id": "RxYDG9galA02",
        "colab_type": "code",
        "outputId": "ad0ee557-8dd9-457e-b722-191a86057477",
        "colab": {
          "base_uri": "https://localhost:8080/",
          "height": 87
        }
      },
      "source": [
        "test_data.columns"
      ],
      "execution_count": 78,
      "outputs": [
        {
          "output_type": "execute_result",
          "data": {
            "text/plain": [
              "Index(['user_name', 'country', 'review_title', 'review_description',\n",
              "       'designation', 'points', 'price', 'province', 'region_1', 'region_2',\n",
              "       'winery'],\n",
              "      dtype='object')"
            ]
          },
          "metadata": {
            "tags": []
          },
          "execution_count": 78
        }
      ]
    },
    {
      "cell_type": "code",
      "metadata": {
        "id": "a3IurwMBdtzB",
        "colab_type": "code",
        "outputId": "4d516d93-f3e9-4808-e541-2b010bfec3de",
        "colab": {
          "base_uri": "https://localhost:8080/",
          "height": 52
        }
      },
      "source": [
        "print('Size of Training Data :->',data.shape) \n",
        "print('Size of Testing Data  :->', test_data.shape)"
      ],
      "execution_count": 79,
      "outputs": [
        {
          "output_type": "stream",
          "text": [
            "Size of Training Data :-> (82657, 12)\n",
            "Size of Testing Data  :-> (20665, 11)\n"
          ],
          "name": "stdout"
        }
      ]
    },
    {
      "cell_type": "code",
      "metadata": {
        "id": "E_rFr_nxdQa2",
        "colab_type": "code",
        "outputId": "f51684f4-0620-4b5d-c463-557ade16fe38",
        "colab": {
          "base_uri": "https://localhost:8080/",
          "height": 294
        }
      },
      "source": [
        "data.describe()"
      ],
      "execution_count": 80,
      "outputs": [
        {
          "output_type": "execute_result",
          "data": {
            "text/html": [
              "<div>\n",
              "<style scoped>\n",
              "    .dataframe tbody tr th:only-of-type {\n",
              "        vertical-align: middle;\n",
              "    }\n",
              "\n",
              "    .dataframe tbody tr th {\n",
              "        vertical-align: top;\n",
              "    }\n",
              "\n",
              "    .dataframe thead th {\n",
              "        text-align: right;\n",
              "    }\n",
              "</style>\n",
              "<table border=\"1\" class=\"dataframe\">\n",
              "  <thead>\n",
              "    <tr style=\"text-align: right;\">\n",
              "      <th></th>\n",
              "      <th>points</th>\n",
              "      <th>price</th>\n",
              "    </tr>\n",
              "  </thead>\n",
              "  <tbody>\n",
              "    <tr>\n",
              "      <th>count</th>\n",
              "      <td>82657.000000</td>\n",
              "      <td>77088.000000</td>\n",
              "    </tr>\n",
              "    <tr>\n",
              "      <th>mean</th>\n",
              "      <td>88.544564</td>\n",
              "      <td>36.922232</td>\n",
              "    </tr>\n",
              "    <tr>\n",
              "      <th>std</th>\n",
              "      <td>3.099649</td>\n",
              "      <td>43.698346</td>\n",
              "    </tr>\n",
              "    <tr>\n",
              "      <th>min</th>\n",
              "      <td>80.000000</td>\n",
              "      <td>4.000000</td>\n",
              "    </tr>\n",
              "    <tr>\n",
              "      <th>25%</th>\n",
              "      <td>86.000000</td>\n",
              "      <td>18.000000</td>\n",
              "    </tr>\n",
              "    <tr>\n",
              "      <th>50%</th>\n",
              "      <td>88.000000</td>\n",
              "      <td>27.000000</td>\n",
              "    </tr>\n",
              "    <tr>\n",
              "      <th>75%</th>\n",
              "      <td>91.000000</td>\n",
              "      <td>45.000000</td>\n",
              "    </tr>\n",
              "    <tr>\n",
              "      <th>max</th>\n",
              "      <td>100.000000</td>\n",
              "      <td>3300.000000</td>\n",
              "    </tr>\n",
              "  </tbody>\n",
              "</table>\n",
              "</div>"
            ],
            "text/plain": [
              "             points         price\n",
              "count  82657.000000  77088.000000\n",
              "mean      88.544564     36.922232\n",
              "std        3.099649     43.698346\n",
              "min       80.000000      4.000000\n",
              "25%       86.000000     18.000000\n",
              "50%       88.000000     27.000000\n",
              "75%       91.000000     45.000000\n",
              "max      100.000000   3300.000000"
            ]
          },
          "metadata": {
            "tags": []
          },
          "execution_count": 80
        }
      ]
    },
    {
      "cell_type": "code",
      "metadata": {
        "id": "sdpj6q3udb8f",
        "colab_type": "code",
        "colab": {}
      },
      "source": [
        "df = data.copy() "
      ],
      "execution_count": 0,
      "outputs": []
    },
    {
      "cell_type": "code",
      "metadata": {
        "id": "GjDmh5kjd9gB",
        "colab_type": "code",
        "colab": {}
      },
      "source": [
        "df = data[['review_title','review_description']]"
      ],
      "execution_count": 0,
      "outputs": []
    },
    {
      "cell_type": "code",
      "metadata": {
        "id": "3Izq5Jrgd-cy",
        "colab_type": "code",
        "outputId": "60fa435e-03cc-4d4f-d08b-90e32aa615ca",
        "colab": {
          "base_uri": "https://localhost:8080/",
          "height": 415
        }
      },
      "source": [
        "df"
      ],
      "execution_count": 83,
      "outputs": [
        {
          "output_type": "execute_result",
          "data": {
            "text/html": [
              "<div>\n",
              "<style scoped>\n",
              "    .dataframe tbody tr th:only-of-type {\n",
              "        vertical-align: middle;\n",
              "    }\n",
              "\n",
              "    .dataframe tbody tr th {\n",
              "        vertical-align: top;\n",
              "    }\n",
              "\n",
              "    .dataframe thead th {\n",
              "        text-align: right;\n",
              "    }\n",
              "</style>\n",
              "<table border=\"1\" class=\"dataframe\">\n",
              "  <thead>\n",
              "    <tr style=\"text-align: right;\">\n",
              "      <th></th>\n",
              "      <th>review_title</th>\n",
              "      <th>review_description</th>\n",
              "    </tr>\n",
              "  </thead>\n",
              "  <tbody>\n",
              "    <tr>\n",
              "      <th>0</th>\n",
              "      <td>Andrew Peace 2007 Peace Family Vineyard Chardo...</td>\n",
              "      <td>Classic Chardonnay aromas of apple, pear and h...</td>\n",
              "    </tr>\n",
              "    <tr>\n",
              "      <th>1</th>\n",
              "      <td>North by Northwest 2014 Red (Columbia Valley (...</td>\n",
              "      <td>This wine is near equal parts Syrah and Merlot...</td>\n",
              "    </tr>\n",
              "    <tr>\n",
              "      <th>2</th>\n",
              "      <td>Renato Ratti 2007 Conca  (Barolo)</td>\n",
              "      <td>Barolo Conca opens with inky dark concentratio...</td>\n",
              "    </tr>\n",
              "    <tr>\n",
              "      <th>3</th>\n",
              "      <td>Domaine l'Ancienne Cure 2010 L'Abbaye White (B...</td>\n",
              "      <td>It's impressive what a small addition of Sauvi...</td>\n",
              "    </tr>\n",
              "    <tr>\n",
              "      <th>4</th>\n",
              "      <td>Château du Cèdre 2012 Le Cèdre Vintage Malbec ...</td>\n",
              "      <td>This ripe, sweet wine is rich and full of drie...</td>\n",
              "    </tr>\n",
              "    <tr>\n",
              "      <th>...</th>\n",
              "      <td>...</td>\n",
              "      <td>...</td>\n",
              "    </tr>\n",
              "    <tr>\n",
              "      <th>82652</th>\n",
              "      <td>Montecillo 2007 Crianza  (Rioja)</td>\n",
              "      <td>Hot earth, baked cherry and mild vanilla aroma...</td>\n",
              "    </tr>\n",
              "    <tr>\n",
              "      <th>82653</th>\n",
              "      <td>Vivác Winery 2008 Single Vineyard Cabernet Sau...</td>\n",
              "      <td>Pungent, high-pitched notes of turmeric and dr...</td>\n",
              "    </tr>\n",
              "    <tr>\n",
              "      <th>82654</th>\n",
              "      <td>Domaine de la Madone 2014 Nouveau  (Beaujolais...</td>\n",
              "      <td>This is a wine that's not just lively and frui...</td>\n",
              "    </tr>\n",
              "    <tr>\n",
              "      <th>82655</th>\n",
              "      <td>Château Beaumont 2011  Haut-Médoc</td>\n",
              "      <td>An impressive wine, it already shows signs of ...</td>\n",
              "    </tr>\n",
              "    <tr>\n",
              "      <th>82656</th>\n",
              "      <td>Round Pond 2010 Estate Cabernet Sauvignon (Rut...</td>\n",
              "      <td>A big, rich, vital Cabernet with immediate att...</td>\n",
              "    </tr>\n",
              "  </tbody>\n",
              "</table>\n",
              "<p>82657 rows × 2 columns</p>\n",
              "</div>"
            ],
            "text/plain": [
              "                                            review_title                                 review_description\n",
              "0      Andrew Peace 2007 Peace Family Vineyard Chardo...  Classic Chardonnay aromas of apple, pear and h...\n",
              "1      North by Northwest 2014 Red (Columbia Valley (...  This wine is near equal parts Syrah and Merlot...\n",
              "2                      Renato Ratti 2007 Conca  (Barolo)  Barolo Conca opens with inky dark concentratio...\n",
              "3      Domaine l'Ancienne Cure 2010 L'Abbaye White (B...  It's impressive what a small addition of Sauvi...\n",
              "4      Château du Cèdre 2012 Le Cèdre Vintage Malbec ...  This ripe, sweet wine is rich and full of drie...\n",
              "...                                                  ...                                                ...\n",
              "82652                   Montecillo 2007 Crianza  (Rioja)  Hot earth, baked cherry and mild vanilla aroma...\n",
              "82653  Vivác Winery 2008 Single Vineyard Cabernet Sau...  Pungent, high-pitched notes of turmeric and dr...\n",
              "82654  Domaine de la Madone 2014 Nouveau  (Beaujolais...  This is a wine that's not just lively and frui...\n",
              "82655                  Château Beaumont 2011  Haut-Médoc  An impressive wine, it already shows signs of ...\n",
              "82656  Round Pond 2010 Estate Cabernet Sauvignon (Rut...  A big, rich, vital Cabernet with immediate att...\n",
              "\n",
              "[82657 rows x 2 columns]"
            ]
          },
          "metadata": {
            "tags": []
          },
          "execution_count": 83
        }
      ]
    },
    {
      "cell_type": "code",
      "metadata": {
        "id": "wcbardR1eMKy",
        "colab_type": "code",
        "colab": {}
      },
      "source": [
        "data = data.loc[:,['review_title', 'review_description', 'designation', 'country', 'points', 'price', 'winery', 'variety']]"
      ],
      "execution_count": 0,
      "outputs": []
    },
    {
      "cell_type": "code",
      "metadata": {
        "id": "5lJrqYmjJk8W",
        "colab_type": "code",
        "outputId": "43703962-d0a1-4b33-f2b1-727d5f0a1b3a",
        "colab": {
          "base_uri": "https://localhost:8080/",
          "height": 193
        }
      },
      "source": [
        "data.head(3)"
      ],
      "execution_count": 85,
      "outputs": [
        {
          "output_type": "execute_result",
          "data": {
            "text/html": [
              "<div>\n",
              "<style scoped>\n",
              "    .dataframe tbody tr th:only-of-type {\n",
              "        vertical-align: middle;\n",
              "    }\n",
              "\n",
              "    .dataframe tbody tr th {\n",
              "        vertical-align: top;\n",
              "    }\n",
              "\n",
              "    .dataframe thead th {\n",
              "        text-align: right;\n",
              "    }\n",
              "</style>\n",
              "<table border=\"1\" class=\"dataframe\">\n",
              "  <thead>\n",
              "    <tr style=\"text-align: right;\">\n",
              "      <th></th>\n",
              "      <th>review_title</th>\n",
              "      <th>review_description</th>\n",
              "      <th>designation</th>\n",
              "      <th>country</th>\n",
              "      <th>points</th>\n",
              "      <th>price</th>\n",
              "      <th>winery</th>\n",
              "      <th>variety</th>\n",
              "    </tr>\n",
              "  </thead>\n",
              "  <tbody>\n",
              "    <tr>\n",
              "      <th>0</th>\n",
              "      <td>Andrew Peace 2007 Peace Family Vineyard Chardo...</td>\n",
              "      <td>Classic Chardonnay aromas of apple, pear and h...</td>\n",
              "      <td>Peace Family Vineyard</td>\n",
              "      <td>Australia</td>\n",
              "      <td>83</td>\n",
              "      <td>10.0</td>\n",
              "      <td>Andrew Peace</td>\n",
              "      <td>Chardonnay</td>\n",
              "    </tr>\n",
              "    <tr>\n",
              "      <th>1</th>\n",
              "      <td>North by Northwest 2014 Red (Columbia Valley (...</td>\n",
              "      <td>This wine is near equal parts Syrah and Merlot...</td>\n",
              "      <td>NaN</td>\n",
              "      <td>US</td>\n",
              "      <td>89</td>\n",
              "      <td>15.0</td>\n",
              "      <td>North by Northwest</td>\n",
              "      <td>Red Blend</td>\n",
              "    </tr>\n",
              "    <tr>\n",
              "      <th>2</th>\n",
              "      <td>Renato Ratti 2007 Conca  (Barolo)</td>\n",
              "      <td>Barolo Conca opens with inky dark concentratio...</td>\n",
              "      <td>Conca</td>\n",
              "      <td>Italy</td>\n",
              "      <td>94</td>\n",
              "      <td>80.0</td>\n",
              "      <td>Renato Ratti</td>\n",
              "      <td>Nebbiolo</td>\n",
              "    </tr>\n",
              "  </tbody>\n",
              "</table>\n",
              "</div>"
            ],
            "text/plain": [
              "                                        review_title  ...     variety\n",
              "0  Andrew Peace 2007 Peace Family Vineyard Chardo...  ...  Chardonnay\n",
              "1  North by Northwest 2014 Red (Columbia Valley (...  ...   Red Blend\n",
              "2                  Renato Ratti 2007 Conca  (Barolo)  ...    Nebbiolo\n",
              "\n",
              "[3 rows x 8 columns]"
            ]
          },
          "metadata": {
            "tags": []
          },
          "execution_count": 85
        }
      ]
    },
    {
      "cell_type": "code",
      "metadata": {
        "id": "ZHwQVFL6JmEt",
        "colab_type": "code",
        "outputId": "3404298c-2a75-45af-e039-3710900ea243",
        "colab": {
          "base_uri": "https://localhost:8080/",
          "height": 35
        }
      },
      "source": [
        "data.shape"
      ],
      "execution_count": 86,
      "outputs": [
        {
          "output_type": "execute_result",
          "data": {
            "text/plain": [
              "(82657, 8)"
            ]
          },
          "metadata": {
            "tags": []
          },
          "execution_count": 86
        }
      ]
    },
    {
      "cell_type": "code",
      "metadata": {
        "id": "neSSB3SWKGlY",
        "colab_type": "code",
        "outputId": "223c1340-f6e3-4382-f3bc-b93e0755e689",
        "colab": {
          "base_uri": "https://localhost:8080/",
          "height": 156
        }
      },
      "source": [
        "review_title_null = data.loc[data['review_title'].isnull()]\n",
        "review_description_null = data.loc[data['review_description'].isnull()]\n",
        "desig_null = data.loc[data['designation'].isnull()]\n",
        "country_null = data.loc[data['country'].isnull()]\n",
        "points_null = data.loc[data['points'].isnull()]\n",
        "price_null = data.loc[data['price'].isnull()]\n",
        "winery_null = data.loc[data['winery'].isnull()]\n",
        "variety_null = data.loc[data['variety'].isnull()]\n",
        "\n",
        "print(review_title_null.shape[0]/82657 *100, '% of data points where review_title is null')\n",
        "print(review_description_null.shape[0]/82657 *100,'% of data points where review_description is null')\n",
        "print(desig_null.shape[0]/82657 *100,'% of data points where designation is null')\n",
        "print(country_null.shape[0]/82657 *100,'% of data points where country is null')\n",
        "print(points_null.shape[0]/82657 *100, '% of data points where points is null')\n",
        "print(price_null.shape[0]/82657 *100, '% of data points where price is null')\n",
        "print(winery_null.shape[0]/82657 *100,'% of data points where winery is null')\n",
        "print(variety_null.shape[0]/82657 *100,'% of data points where variety is null')"
      ],
      "execution_count": 87,
      "outputs": [
        {
          "output_type": "stream",
          "text": [
            "0.0 % of data points where review_title is null\n",
            "0.0 % of data points where review_description is null\n",
            "28.608587294482017 % of data points where designation is null\n",
            "0.04234366115392526 % of data points where country is null\n",
            "0.0 % of data points where points is null\n",
            "6.737481399034564 % of data points where price is null\n",
            "0.0 % of data points where winery is null\n",
            "0.0 % of data points where variety is null\n"
          ],
          "name": "stdout"
        }
      ]
    },
    {
      "cell_type": "code",
      "metadata": {
        "id": "Fho6xCWTN05p",
        "colab_type": "code",
        "outputId": "38fa8215-d70c-47a1-ba41-3eb56651488f",
        "colab": {
          "base_uri": "https://localhost:8080/",
          "height": 173
        }
      },
      "source": [
        "data.isnull().sum(axis = 0)"
      ],
      "execution_count": 88,
      "outputs": [
        {
          "output_type": "execute_result",
          "data": {
            "text/plain": [
              "review_title              0\n",
              "review_description        0\n",
              "designation           23647\n",
              "country                  35\n",
              "points                    0\n",
              "price                  5569\n",
              "winery                    0\n",
              "variety                   0\n",
              "dtype: int64"
            ]
          },
          "metadata": {
            "tags": []
          },
          "execution_count": 88
        }
      ]
    },
    {
      "cell_type": "code",
      "metadata": {
        "id": "dTYEA_Y1RCSS",
        "colab_type": "code",
        "outputId": "b049f838-ac62-4607-d4f0-6f25d3cf416e",
        "colab": {
          "base_uri": "https://localhost:8080/",
          "height": 35
        }
      },
      "source": [
        "data =data.loc[~data['designation'].isnull()]\n",
        "print('Number of data points After eliminating designation = NULL :', data.shape[0])"
      ],
      "execution_count": 89,
      "outputs": [
        {
          "output_type": "stream",
          "text": [
            "Number of data points After eliminating designation = NULL : 59010\n"
          ],
          "name": "stdout"
        }
      ]
    },
    {
      "cell_type": "code",
      "metadata": {
        "id": "eORAxq25RGgQ",
        "colab_type": "code",
        "outputId": "0f94a2cc-2679-4da2-899f-4e80c422f628",
        "colab": {
          "base_uri": "https://localhost:8080/",
          "height": 35
        }
      },
      "source": [
        "data = data.loc[~data['country'].isnull()]\n",
        "print('Number of data points After eliminating country=NULL :', data.shape[0])"
      ],
      "execution_count": 90,
      "outputs": [
        {
          "output_type": "stream",
          "text": [
            "Number of data points After eliminating country=NULL : 58980\n"
          ],
          "name": "stdout"
        }
      ]
    },
    {
      "cell_type": "code",
      "metadata": {
        "id": "RoqpggCjOSCQ",
        "colab_type": "code",
        "outputId": "342199bb-c192-4d6c-bd42-9d6d5df91573",
        "colab": {
          "base_uri": "https://localhost:8080/",
          "height": 35
        }
      },
      "source": [
        "data = data.loc[~data['price'].isnull()]\n",
        "print('Number of data points After eliminating price = NULL :', data.shape[0])"
      ],
      "execution_count": 91,
      "outputs": [
        {
          "output_type": "stream",
          "text": [
            "Number of data points After eliminating price = NULL : 55128\n"
          ],
          "name": "stdout"
        }
      ]
    },
    {
      "cell_type": "code",
      "metadata": {
        "id": "tKS2GTLhROPV",
        "colab_type": "code",
        "outputId": "1afb8307-db98-492b-f4a8-f590e65244d7",
        "colab": {
          "base_uri": "https://localhost:8080/",
          "height": 35
        }
      },
      "source": [
        "print(55128/82657 *100 ,\"% of data remained after eliminating null values\")"
      ],
      "execution_count": 92,
      "outputs": [
        {
          "output_type": "stream",
          "text": [
            "66.69489577410262 % of data remained after eliminating null values\n"
          ],
          "name": "stdout"
        }
      ]
    },
    {
      "cell_type": "code",
      "metadata": {
        "id": "h-wYRT0VR63v",
        "colab_type": "code",
        "outputId": "b577af81-19bb-4e25-a50a-a33024bedc5d",
        "colab": {
          "base_uri": "https://localhost:8080/",
          "height": 173
        }
      },
      "source": [
        "data.isnull().sum(axis = 0)"
      ],
      "execution_count": 93,
      "outputs": [
        {
          "output_type": "execute_result",
          "data": {
            "text/plain": [
              "review_title          0\n",
              "review_description    0\n",
              "designation           0\n",
              "country               0\n",
              "points                0\n",
              "price                 0\n",
              "winery                0\n",
              "variety               0\n",
              "dtype: int64"
            ]
          },
          "metadata": {
            "tags": []
          },
          "execution_count": 93
        }
      ]
    },
    {
      "cell_type": "code",
      "metadata": {
        "id": "e7jD-_-MR9xd",
        "colab_type": "code",
        "outputId": "64461a7f-4ce0-4d31-b518-c537e9213b6f",
        "colab": {
          "base_uri": "https://localhost:8080/",
          "height": 289
        }
      },
      "source": [
        "data.head()"
      ],
      "execution_count": 94,
      "outputs": [
        {
          "output_type": "execute_result",
          "data": {
            "text/html": [
              "<div>\n",
              "<style scoped>\n",
              "    .dataframe tbody tr th:only-of-type {\n",
              "        vertical-align: middle;\n",
              "    }\n",
              "\n",
              "    .dataframe tbody tr th {\n",
              "        vertical-align: top;\n",
              "    }\n",
              "\n",
              "    .dataframe thead th {\n",
              "        text-align: right;\n",
              "    }\n",
              "</style>\n",
              "<table border=\"1\" class=\"dataframe\">\n",
              "  <thead>\n",
              "    <tr style=\"text-align: right;\">\n",
              "      <th></th>\n",
              "      <th>review_title</th>\n",
              "      <th>review_description</th>\n",
              "      <th>designation</th>\n",
              "      <th>country</th>\n",
              "      <th>points</th>\n",
              "      <th>price</th>\n",
              "      <th>winery</th>\n",
              "      <th>variety</th>\n",
              "    </tr>\n",
              "  </thead>\n",
              "  <tbody>\n",
              "    <tr>\n",
              "      <th>0</th>\n",
              "      <td>Andrew Peace 2007 Peace Family Vineyard Chardo...</td>\n",
              "      <td>Classic Chardonnay aromas of apple, pear and h...</td>\n",
              "      <td>Peace Family Vineyard</td>\n",
              "      <td>Australia</td>\n",
              "      <td>83</td>\n",
              "      <td>10.0</td>\n",
              "      <td>Andrew Peace</td>\n",
              "      <td>Chardonnay</td>\n",
              "    </tr>\n",
              "    <tr>\n",
              "      <th>2</th>\n",
              "      <td>Renato Ratti 2007 Conca  (Barolo)</td>\n",
              "      <td>Barolo Conca opens with inky dark concentratio...</td>\n",
              "      <td>Conca</td>\n",
              "      <td>Italy</td>\n",
              "      <td>94</td>\n",
              "      <td>80.0</td>\n",
              "      <td>Renato Ratti</td>\n",
              "      <td>Nebbiolo</td>\n",
              "    </tr>\n",
              "    <tr>\n",
              "      <th>3</th>\n",
              "      <td>Domaine l'Ancienne Cure 2010 L'Abbaye White (B...</td>\n",
              "      <td>It's impressive what a small addition of Sauvi...</td>\n",
              "      <td>L'Abbaye</td>\n",
              "      <td>France</td>\n",
              "      <td>87</td>\n",
              "      <td>22.0</td>\n",
              "      <td>Domaine l'Ancienne Cure</td>\n",
              "      <td>Bordeaux-style White Blend</td>\n",
              "    </tr>\n",
              "    <tr>\n",
              "      <th>4</th>\n",
              "      <td>Château du Cèdre 2012 Le Cèdre Vintage Malbec ...</td>\n",
              "      <td>This ripe, sweet wine is rich and full of drie...</td>\n",
              "      <td>Le Cèdre Vintage</td>\n",
              "      <td>France</td>\n",
              "      <td>88</td>\n",
              "      <td>33.0</td>\n",
              "      <td>Château du Cèdre</td>\n",
              "      <td>Malbec</td>\n",
              "    </tr>\n",
              "    <tr>\n",
              "      <th>5</th>\n",
              "      <td>Andean 2005 Finca La Escondida Reserva Caberne...</td>\n",
              "      <td>Strident aromas of licorice, herbs, berries an...</td>\n",
              "      <td>Finca La Escondida Reserva</td>\n",
              "      <td>Argentina</td>\n",
              "      <td>85</td>\n",
              "      <td>13.0</td>\n",
              "      <td>Andean</td>\n",
              "      <td>Cabernet Sauvignon</td>\n",
              "    </tr>\n",
              "  </tbody>\n",
              "</table>\n",
              "</div>"
            ],
            "text/plain": [
              "                                        review_title  ...                     variety\n",
              "0  Andrew Peace 2007 Peace Family Vineyard Chardo...  ...                  Chardonnay\n",
              "2                  Renato Ratti 2007 Conca  (Barolo)  ...                    Nebbiolo\n",
              "3  Domaine l'Ancienne Cure 2010 L'Abbaye White (B...  ...  Bordeaux-style White Blend\n",
              "4  Château du Cèdre 2012 Le Cèdre Vintage Malbec ...  ...                      Malbec\n",
              "5  Andean 2005 Finca La Escondida Reserva Caberne...  ...          Cabernet Sauvignon\n",
              "\n",
              "[5 rows x 8 columns]"
            ]
          },
          "metadata": {
            "tags": []
          },
          "execution_count": 94
        }
      ]
    },
    {
      "cell_type": "code",
      "metadata": {
        "id": "7Kftjff5SDVg",
        "colab_type": "code",
        "outputId": "1294dd4e-030a-4056-9512-be4bdba2e228",
        "colab": {
          "base_uri": "https://localhost:8080/",
          "height": 52
        }
      },
      "source": [
        "dup_description = sum(data.duplicated('review_description'))\n",
        "dup_title =  sum(data.duplicated('review_title'))\n",
        "print(dup_description)\n",
        "print(dup_title)"
      ],
      "execution_count": 95,
      "outputs": [
        {
          "output_type": "stream",
          "text": [
            "3374\n",
            "3819\n"
          ],
          "name": "stdout"
        }
      ]
    },
    {
      "cell_type": "code",
      "metadata": {
        "id": "2_94WLBqW3cT",
        "colab_type": "code",
        "outputId": "47edee76-d4bb-4c71-ca77-2d9cd2baa2a7",
        "colab": {
          "base_uri": "https://localhost:8080/",
          "height": 35
        }
      },
      "source": [
        "data.shape"
      ],
      "execution_count": 96,
      "outputs": [
        {
          "output_type": "execute_result",
          "data": {
            "text/plain": [
              "(55128, 8)"
            ]
          },
          "metadata": {
            "tags": []
          },
          "execution_count": 96
        }
      ]
    },
    {
      "cell_type": "code",
      "metadata": {
        "id": "H1ArHfHjZjQd",
        "colab_type": "code",
        "colab": {}
      },
      "source": [
        "dup_title = data.duplicated('review_description')\n",
        "dup_title = pd.DataFrame(dup_title)\n",
        "dup_title.columns = ['bool']    \n",
        "dup_title.head()\n",
        "indx = dup_title.loc[dup_title['bool'] == True]\n",
        "for i in indx.iterrows():\n",
        "    data = data.drop(i[0])"
      ],
      "execution_count": 0,
      "outputs": []
    },
    {
      "cell_type": "code",
      "metadata": {
        "id": "r0jUCcGIYBlg",
        "colab_type": "code",
        "colab": {}
      },
      "source": [
        "dup_title = data.duplicated('review_title')\n",
        "dup_title = pd.DataFrame(dup_title)\n",
        "dup_title.columns = ['bool']    \n",
        "dup_title.head()\n",
        "indx = dup_title.loc[dup_title['bool'] == True]\n",
        "for i in indx.iterrows():\n",
        "    data = data.drop(i[0])"
      ],
      "execution_count": 0,
      "outputs": []
    },
    {
      "cell_type": "code",
      "metadata": {
        "id": "TLT4jqjJZt4C",
        "colab_type": "code",
        "outputId": "a92dc162-622f-4a8b-d9ad-cc4b26ec5313",
        "colab": {
          "base_uri": "https://localhost:8080/",
          "height": 35
        }
      },
      "source": [
        "data.shape"
      ],
      "execution_count": 99,
      "outputs": [
        {
          "output_type": "execute_result",
          "data": {
            "text/plain": [
              "(51303, 8)"
            ]
          },
          "metadata": {
            "tags": []
          },
          "execution_count": 99
        }
      ]
    },
    {
      "cell_type": "code",
      "metadata": {
        "id": "nvIXHsa-Z32H",
        "colab_type": "code",
        "colab": {}
      },
      "source": [
        "import pickle"
      ],
      "execution_count": 0,
      "outputs": []
    },
    {
      "cell_type": "code",
      "metadata": {
        "id": "Ci7MqDYLbRdw",
        "colab_type": "code",
        "colab": {}
      },
      "source": [
        "# with open('/content/drive/My Drive/Knight ML Assignment/pickels/cleaned_data.pkl', 'wb') as f:\n",
        "#     pickle.dump(data, f) "
      ],
      "execution_count": 0,
      "outputs": []
    },
    {
      "cell_type": "code",
      "metadata": {
        "id": "agl-FNnqaaIb",
        "colab_type": "code",
        "colab": {}
      },
      "source": [
        "# data.to_pickle('/content/drive/My Drive/Knight ML Assignment/pickels/cleaned_data1.pkl')"
      ],
      "execution_count": 0,
      "outputs": []
    },
    {
      "cell_type": "code",
      "metadata": {
        "id": "Wu0dD7sYa2xo",
        "colab_type": "code",
        "colab": {}
      },
      "source": [
        "data = pd.read_pickle('/content/drive/My Drive/Knight ML Assignment/pickels/cleaned_data.pkl')"
      ],
      "execution_count": 0,
      "outputs": []
    },
    {
      "cell_type": "code",
      "metadata": {
        "id": "JefWJeUddZF8",
        "colab_type": "code",
        "colab": {
          "base_uri": "https://localhost:8080/",
          "height": 589
        },
        "outputId": "7b30dfbc-315d-4c92-c51c-acf141b4a0b6"
      },
      "source": [
        "data"
      ],
      "execution_count": 17,
      "outputs": [
        {
          "output_type": "execute_result",
          "data": {
            "text/html": [
              "<div>\n",
              "<style scoped>\n",
              "    .dataframe tbody tr th:only-of-type {\n",
              "        vertical-align: middle;\n",
              "    }\n",
              "\n",
              "    .dataframe tbody tr th {\n",
              "        vertical-align: top;\n",
              "    }\n",
              "\n",
              "    .dataframe thead th {\n",
              "        text-align: right;\n",
              "    }\n",
              "</style>\n",
              "<table border=\"1\" class=\"dataframe\">\n",
              "  <thead>\n",
              "    <tr style=\"text-align: right;\">\n",
              "      <th></th>\n",
              "      <th>review_title</th>\n",
              "      <th>review_description</th>\n",
              "      <th>designation</th>\n",
              "      <th>country</th>\n",
              "      <th>points</th>\n",
              "      <th>price</th>\n",
              "      <th>winery</th>\n",
              "      <th>variety</th>\n",
              "    </tr>\n",
              "  </thead>\n",
              "  <tbody>\n",
              "    <tr>\n",
              "      <th>0</th>\n",
              "      <td>Andrew Peace 2007 Peace Family Vineyard Chardo...</td>\n",
              "      <td>Classic Chardonnay aromas of apple, pear and h...</td>\n",
              "      <td>Peace Family Vineyard</td>\n",
              "      <td>Australia</td>\n",
              "      <td>83</td>\n",
              "      <td>10.0</td>\n",
              "      <td>Andrew Peace</td>\n",
              "      <td>Chardonnay</td>\n",
              "    </tr>\n",
              "    <tr>\n",
              "      <th>2</th>\n",
              "      <td>Renato Ratti 2007 Conca  (Barolo)</td>\n",
              "      <td>Barolo Conca opens with inky dark concentratio...</td>\n",
              "      <td>Conca</td>\n",
              "      <td>Italy</td>\n",
              "      <td>94</td>\n",
              "      <td>80.0</td>\n",
              "      <td>Renato Ratti</td>\n",
              "      <td>Nebbiolo</td>\n",
              "    </tr>\n",
              "    <tr>\n",
              "      <th>3</th>\n",
              "      <td>Domaine l'Ancienne Cure 2010 L'Abbaye White (B...</td>\n",
              "      <td>It's impressive what a small addition of Sauvi...</td>\n",
              "      <td>L'Abbaye</td>\n",
              "      <td>France</td>\n",
              "      <td>87</td>\n",
              "      <td>22.0</td>\n",
              "      <td>Domaine l'Ancienne Cure</td>\n",
              "      <td>Bordeaux-style White Blend</td>\n",
              "    </tr>\n",
              "    <tr>\n",
              "      <th>4</th>\n",
              "      <td>Château du Cèdre 2012 Le Cèdre Vintage Malbec ...</td>\n",
              "      <td>This ripe, sweet wine is rich and full of drie...</td>\n",
              "      <td>Le Cèdre Vintage</td>\n",
              "      <td>France</td>\n",
              "      <td>88</td>\n",
              "      <td>33.0</td>\n",
              "      <td>Château du Cèdre</td>\n",
              "      <td>Malbec</td>\n",
              "    </tr>\n",
              "    <tr>\n",
              "      <th>5</th>\n",
              "      <td>Andean 2005 Finca La Escondida Reserva Caberne...</td>\n",
              "      <td>Strident aromas of licorice, herbs, berries an...</td>\n",
              "      <td>Finca La Escondida Reserva</td>\n",
              "      <td>Argentina</td>\n",
              "      <td>85</td>\n",
              "      <td>13.0</td>\n",
              "      <td>Andean</td>\n",
              "      <td>Cabernet Sauvignon</td>\n",
              "    </tr>\n",
              "    <tr>\n",
              "      <th>...</th>\n",
              "      <td>...</td>\n",
              "      <td>...</td>\n",
              "      <td>...</td>\n",
              "      <td>...</td>\n",
              "      <td>...</td>\n",
              "      <td>...</td>\n",
              "      <td>...</td>\n",
              "      <td>...</td>\n",
              "    </tr>\n",
              "    <tr>\n",
              "      <th>82644</th>\n",
              "      <td>Guillaume Gros 2007 Pourquois Pas Red (Côtes d...</td>\n",
              "      <td>This may lack the silky completeness of Gros's...</td>\n",
              "      <td>Pourquois Pas</td>\n",
              "      <td>France</td>\n",
              "      <td>87</td>\n",
              "      <td>25.0</td>\n",
              "      <td>Guillaume Gros</td>\n",
              "      <td>Rhône-style Red Blend</td>\n",
              "    </tr>\n",
              "    <tr>\n",
              "      <th>82652</th>\n",
              "      <td>Montecillo 2007 Crianza  (Rioja)</td>\n",
              "      <td>Hot earth, baked cherry and mild vanilla aroma...</td>\n",
              "      <td>Crianza</td>\n",
              "      <td>Spain</td>\n",
              "      <td>84</td>\n",
              "      <td>12.0</td>\n",
              "      <td>Montecillo</td>\n",
              "      <td>Tempranillo</td>\n",
              "    </tr>\n",
              "    <tr>\n",
              "      <th>82653</th>\n",
              "      <td>Vivác Winery 2008 Single Vineyard Cabernet Sau...</td>\n",
              "      <td>Pungent, high-pitched notes of turmeric and dr...</td>\n",
              "      <td>Single Vineyard</td>\n",
              "      <td>US</td>\n",
              "      <td>85</td>\n",
              "      <td>21.0</td>\n",
              "      <td>Vivác Winery</td>\n",
              "      <td>Cabernet Sauvignon</td>\n",
              "    </tr>\n",
              "    <tr>\n",
              "      <th>82654</th>\n",
              "      <td>Domaine de la Madone 2014 Nouveau  (Beaujolais...</td>\n",
              "      <td>This is a wine that's not just lively and frui...</td>\n",
              "      <td>Nouveau</td>\n",
              "      <td>France</td>\n",
              "      <td>87</td>\n",
              "      <td>14.0</td>\n",
              "      <td>Domaine de la Madone</td>\n",
              "      <td>Gamay</td>\n",
              "    </tr>\n",
              "    <tr>\n",
              "      <th>82656</th>\n",
              "      <td>Round Pond 2010 Estate Cabernet Sauvignon (Rut...</td>\n",
              "      <td>A big, rich, vital Cabernet with immediate att...</td>\n",
              "      <td>Estate</td>\n",
              "      <td>US</td>\n",
              "      <td>92</td>\n",
              "      <td>50.0</td>\n",
              "      <td>Round Pond</td>\n",
              "      <td>Cabernet Sauvignon</td>\n",
              "    </tr>\n",
              "  </tbody>\n",
              "</table>\n",
              "<p>51303 rows × 8 columns</p>\n",
              "</div>"
            ],
            "text/plain": [
              "                                            review_title  ...                     variety\n",
              "0      Andrew Peace 2007 Peace Family Vineyard Chardo...  ...                  Chardonnay\n",
              "2                      Renato Ratti 2007 Conca  (Barolo)  ...                    Nebbiolo\n",
              "3      Domaine l'Ancienne Cure 2010 L'Abbaye White (B...  ...  Bordeaux-style White Blend\n",
              "4      Château du Cèdre 2012 Le Cèdre Vintage Malbec ...  ...                      Malbec\n",
              "5      Andean 2005 Finca La Escondida Reserva Caberne...  ...          Cabernet Sauvignon\n",
              "...                                                  ...  ...                         ...\n",
              "82644  Guillaume Gros 2007 Pourquois Pas Red (Côtes d...  ...       Rhône-style Red Blend\n",
              "82652                   Montecillo 2007 Crianza  (Rioja)  ...                 Tempranillo\n",
              "82653  Vivác Winery 2008 Single Vineyard Cabernet Sau...  ...          Cabernet Sauvignon\n",
              "82654  Domaine de la Madone 2014 Nouveau  (Beaujolais...  ...                       Gamay\n",
              "82656  Round Pond 2010 Estate Cabernet Sauvignon (Rut...  ...          Cabernet Sauvignon\n",
              "\n",
              "[51303 rows x 8 columns]"
            ]
          },
          "metadata": {
            "tags": []
          },
          "execution_count": 17
        }
      ]
    },
    {
      "cell_type": "code",
      "metadata": {
        "id": "SwDMK1mPdbPO",
        "colab_type": "code",
        "colab": {}
      },
      "source": [
        "# data.reset_index(inplace = True)\n",
        "data.reset_index(inplace = True,drop = True)"
      ],
      "execution_count": 0,
      "outputs": []
    },
    {
      "cell_type": "code",
      "metadata": {
        "id": "kT9HiPYmd787",
        "colab_type": "code",
        "colab": {
          "base_uri": "https://localhost:8080/",
          "height": 589
        },
        "outputId": "c0feefe1-efe1-4c7f-ab8f-5d10db2c132e"
      },
      "source": [
        "data"
      ],
      "execution_count": 21,
      "outputs": [
        {
          "output_type": "execute_result",
          "data": {
            "text/html": [
              "<div>\n",
              "<style scoped>\n",
              "    .dataframe tbody tr th:only-of-type {\n",
              "        vertical-align: middle;\n",
              "    }\n",
              "\n",
              "    .dataframe tbody tr th {\n",
              "        vertical-align: top;\n",
              "    }\n",
              "\n",
              "    .dataframe thead th {\n",
              "        text-align: right;\n",
              "    }\n",
              "</style>\n",
              "<table border=\"1\" class=\"dataframe\">\n",
              "  <thead>\n",
              "    <tr style=\"text-align: right;\">\n",
              "      <th></th>\n",
              "      <th>review_title</th>\n",
              "      <th>review_description</th>\n",
              "      <th>designation</th>\n",
              "      <th>country</th>\n",
              "      <th>points</th>\n",
              "      <th>price</th>\n",
              "      <th>winery</th>\n",
              "      <th>variety</th>\n",
              "    </tr>\n",
              "  </thead>\n",
              "  <tbody>\n",
              "    <tr>\n",
              "      <th>0</th>\n",
              "      <td>Andrew Peace 2007 Peace Family Vineyard Chardo...</td>\n",
              "      <td>Classic Chardonnay aromas of apple, pear and h...</td>\n",
              "      <td>Peace Family Vineyard</td>\n",
              "      <td>Australia</td>\n",
              "      <td>83</td>\n",
              "      <td>10.0</td>\n",
              "      <td>Andrew Peace</td>\n",
              "      <td>Chardonnay</td>\n",
              "    </tr>\n",
              "    <tr>\n",
              "      <th>1</th>\n",
              "      <td>Renato Ratti 2007 Conca  (Barolo)</td>\n",
              "      <td>Barolo Conca opens with inky dark concentratio...</td>\n",
              "      <td>Conca</td>\n",
              "      <td>Italy</td>\n",
              "      <td>94</td>\n",
              "      <td>80.0</td>\n",
              "      <td>Renato Ratti</td>\n",
              "      <td>Nebbiolo</td>\n",
              "    </tr>\n",
              "    <tr>\n",
              "      <th>2</th>\n",
              "      <td>Domaine l'Ancienne Cure 2010 L'Abbaye White (B...</td>\n",
              "      <td>It's impressive what a small addition of Sauvi...</td>\n",
              "      <td>L'Abbaye</td>\n",
              "      <td>France</td>\n",
              "      <td>87</td>\n",
              "      <td>22.0</td>\n",
              "      <td>Domaine l'Ancienne Cure</td>\n",
              "      <td>Bordeaux-style White Blend</td>\n",
              "    </tr>\n",
              "    <tr>\n",
              "      <th>3</th>\n",
              "      <td>Château du Cèdre 2012 Le Cèdre Vintage Malbec ...</td>\n",
              "      <td>This ripe, sweet wine is rich and full of drie...</td>\n",
              "      <td>Le Cèdre Vintage</td>\n",
              "      <td>France</td>\n",
              "      <td>88</td>\n",
              "      <td>33.0</td>\n",
              "      <td>Château du Cèdre</td>\n",
              "      <td>Malbec</td>\n",
              "    </tr>\n",
              "    <tr>\n",
              "      <th>4</th>\n",
              "      <td>Andean 2005 Finca La Escondida Reserva Caberne...</td>\n",
              "      <td>Strident aromas of licorice, herbs, berries an...</td>\n",
              "      <td>Finca La Escondida Reserva</td>\n",
              "      <td>Argentina</td>\n",
              "      <td>85</td>\n",
              "      <td>13.0</td>\n",
              "      <td>Andean</td>\n",
              "      <td>Cabernet Sauvignon</td>\n",
              "    </tr>\n",
              "    <tr>\n",
              "      <th>...</th>\n",
              "      <td>...</td>\n",
              "      <td>...</td>\n",
              "      <td>...</td>\n",
              "      <td>...</td>\n",
              "      <td>...</td>\n",
              "      <td>...</td>\n",
              "      <td>...</td>\n",
              "      <td>...</td>\n",
              "    </tr>\n",
              "    <tr>\n",
              "      <th>51298</th>\n",
              "      <td>Guillaume Gros 2007 Pourquois Pas Red (Côtes d...</td>\n",
              "      <td>This may lack the silky completeness of Gros's...</td>\n",
              "      <td>Pourquois Pas</td>\n",
              "      <td>France</td>\n",
              "      <td>87</td>\n",
              "      <td>25.0</td>\n",
              "      <td>Guillaume Gros</td>\n",
              "      <td>Rhône-style Red Blend</td>\n",
              "    </tr>\n",
              "    <tr>\n",
              "      <th>51299</th>\n",
              "      <td>Montecillo 2007 Crianza  (Rioja)</td>\n",
              "      <td>Hot earth, baked cherry and mild vanilla aroma...</td>\n",
              "      <td>Crianza</td>\n",
              "      <td>Spain</td>\n",
              "      <td>84</td>\n",
              "      <td>12.0</td>\n",
              "      <td>Montecillo</td>\n",
              "      <td>Tempranillo</td>\n",
              "    </tr>\n",
              "    <tr>\n",
              "      <th>51300</th>\n",
              "      <td>Vivác Winery 2008 Single Vineyard Cabernet Sau...</td>\n",
              "      <td>Pungent, high-pitched notes of turmeric and dr...</td>\n",
              "      <td>Single Vineyard</td>\n",
              "      <td>US</td>\n",
              "      <td>85</td>\n",
              "      <td>21.0</td>\n",
              "      <td>Vivác Winery</td>\n",
              "      <td>Cabernet Sauvignon</td>\n",
              "    </tr>\n",
              "    <tr>\n",
              "      <th>51301</th>\n",
              "      <td>Domaine de la Madone 2014 Nouveau  (Beaujolais...</td>\n",
              "      <td>This is a wine that's not just lively and frui...</td>\n",
              "      <td>Nouveau</td>\n",
              "      <td>France</td>\n",
              "      <td>87</td>\n",
              "      <td>14.0</td>\n",
              "      <td>Domaine de la Madone</td>\n",
              "      <td>Gamay</td>\n",
              "    </tr>\n",
              "    <tr>\n",
              "      <th>51302</th>\n",
              "      <td>Round Pond 2010 Estate Cabernet Sauvignon (Rut...</td>\n",
              "      <td>A big, rich, vital Cabernet with immediate att...</td>\n",
              "      <td>Estate</td>\n",
              "      <td>US</td>\n",
              "      <td>92</td>\n",
              "      <td>50.0</td>\n",
              "      <td>Round Pond</td>\n",
              "      <td>Cabernet Sauvignon</td>\n",
              "    </tr>\n",
              "  </tbody>\n",
              "</table>\n",
              "<p>51303 rows × 8 columns</p>\n",
              "</div>"
            ],
            "text/plain": [
              "                                            review_title  ...                     variety\n",
              "0      Andrew Peace 2007 Peace Family Vineyard Chardo...  ...                  Chardonnay\n",
              "1                      Renato Ratti 2007 Conca  (Barolo)  ...                    Nebbiolo\n",
              "2      Domaine l'Ancienne Cure 2010 L'Abbaye White (B...  ...  Bordeaux-style White Blend\n",
              "3      Château du Cèdre 2012 Le Cèdre Vintage Malbec ...  ...                      Malbec\n",
              "4      Andean 2005 Finca La Escondida Reserva Caberne...  ...          Cabernet Sauvignon\n",
              "...                                                  ...  ...                         ...\n",
              "51298  Guillaume Gros 2007 Pourquois Pas Red (Côtes d...  ...       Rhône-style Red Blend\n",
              "51299                   Montecillo 2007 Crianza  (Rioja)  ...                 Tempranillo\n",
              "51300  Vivác Winery 2008 Single Vineyard Cabernet Sau...  ...          Cabernet Sauvignon\n",
              "51301  Domaine de la Madone 2014 Nouveau  (Beaujolais...  ...                       Gamay\n",
              "51302  Round Pond 2010 Estate Cabernet Sauvignon (Rut...  ...          Cabernet Sauvignon\n",
              "\n",
              "[51303 rows x 8 columns]"
            ]
          },
          "metadata": {
            "tags": []
          },
          "execution_count": 21
        }
      ]
    },
    {
      "cell_type": "code",
      "metadata": {
        "id": "i6rg0FtQd9On",
        "colab_type": "code",
        "colab": {}
      },
      "source": [
        "# del data['index']"
      ],
      "execution_count": 0,
      "outputs": []
    },
    {
      "cell_type": "code",
      "metadata": {
        "id": "k-2rFm4IfwPz",
        "colab_type": "code",
        "colab": {
          "base_uri": "https://localhost:8080/",
          "height": 589
        },
        "outputId": "0f4d9ffc-557b-4975-c653-09ed47f93744"
      },
      "source": [
        "data"
      ],
      "execution_count": 22,
      "outputs": [
        {
          "output_type": "execute_result",
          "data": {
            "text/html": [
              "<div>\n",
              "<style scoped>\n",
              "    .dataframe tbody tr th:only-of-type {\n",
              "        vertical-align: middle;\n",
              "    }\n",
              "\n",
              "    .dataframe tbody tr th {\n",
              "        vertical-align: top;\n",
              "    }\n",
              "\n",
              "    .dataframe thead th {\n",
              "        text-align: right;\n",
              "    }\n",
              "</style>\n",
              "<table border=\"1\" class=\"dataframe\">\n",
              "  <thead>\n",
              "    <tr style=\"text-align: right;\">\n",
              "      <th></th>\n",
              "      <th>review_title</th>\n",
              "      <th>review_description</th>\n",
              "      <th>designation</th>\n",
              "      <th>country</th>\n",
              "      <th>points</th>\n",
              "      <th>price</th>\n",
              "      <th>winery</th>\n",
              "      <th>variety</th>\n",
              "    </tr>\n",
              "  </thead>\n",
              "  <tbody>\n",
              "    <tr>\n",
              "      <th>0</th>\n",
              "      <td>Andrew Peace 2007 Peace Family Vineyard Chardo...</td>\n",
              "      <td>Classic Chardonnay aromas of apple, pear and h...</td>\n",
              "      <td>Peace Family Vineyard</td>\n",
              "      <td>Australia</td>\n",
              "      <td>83</td>\n",
              "      <td>10.0</td>\n",
              "      <td>Andrew Peace</td>\n",
              "      <td>Chardonnay</td>\n",
              "    </tr>\n",
              "    <tr>\n",
              "      <th>1</th>\n",
              "      <td>Renato Ratti 2007 Conca  (Barolo)</td>\n",
              "      <td>Barolo Conca opens with inky dark concentratio...</td>\n",
              "      <td>Conca</td>\n",
              "      <td>Italy</td>\n",
              "      <td>94</td>\n",
              "      <td>80.0</td>\n",
              "      <td>Renato Ratti</td>\n",
              "      <td>Nebbiolo</td>\n",
              "    </tr>\n",
              "    <tr>\n",
              "      <th>2</th>\n",
              "      <td>Domaine l'Ancienne Cure 2010 L'Abbaye White (B...</td>\n",
              "      <td>It's impressive what a small addition of Sauvi...</td>\n",
              "      <td>L'Abbaye</td>\n",
              "      <td>France</td>\n",
              "      <td>87</td>\n",
              "      <td>22.0</td>\n",
              "      <td>Domaine l'Ancienne Cure</td>\n",
              "      <td>Bordeaux-style White Blend</td>\n",
              "    </tr>\n",
              "    <tr>\n",
              "      <th>3</th>\n",
              "      <td>Château du Cèdre 2012 Le Cèdre Vintage Malbec ...</td>\n",
              "      <td>This ripe, sweet wine is rich and full of drie...</td>\n",
              "      <td>Le Cèdre Vintage</td>\n",
              "      <td>France</td>\n",
              "      <td>88</td>\n",
              "      <td>33.0</td>\n",
              "      <td>Château du Cèdre</td>\n",
              "      <td>Malbec</td>\n",
              "    </tr>\n",
              "    <tr>\n",
              "      <th>4</th>\n",
              "      <td>Andean 2005 Finca La Escondida Reserva Caberne...</td>\n",
              "      <td>Strident aromas of licorice, herbs, berries an...</td>\n",
              "      <td>Finca La Escondida Reserva</td>\n",
              "      <td>Argentina</td>\n",
              "      <td>85</td>\n",
              "      <td>13.0</td>\n",
              "      <td>Andean</td>\n",
              "      <td>Cabernet Sauvignon</td>\n",
              "    </tr>\n",
              "    <tr>\n",
              "      <th>...</th>\n",
              "      <td>...</td>\n",
              "      <td>...</td>\n",
              "      <td>...</td>\n",
              "      <td>...</td>\n",
              "      <td>...</td>\n",
              "      <td>...</td>\n",
              "      <td>...</td>\n",
              "      <td>...</td>\n",
              "    </tr>\n",
              "    <tr>\n",
              "      <th>51298</th>\n",
              "      <td>Guillaume Gros 2007 Pourquois Pas Red (Côtes d...</td>\n",
              "      <td>This may lack the silky completeness of Gros's...</td>\n",
              "      <td>Pourquois Pas</td>\n",
              "      <td>France</td>\n",
              "      <td>87</td>\n",
              "      <td>25.0</td>\n",
              "      <td>Guillaume Gros</td>\n",
              "      <td>Rhône-style Red Blend</td>\n",
              "    </tr>\n",
              "    <tr>\n",
              "      <th>51299</th>\n",
              "      <td>Montecillo 2007 Crianza  (Rioja)</td>\n",
              "      <td>Hot earth, baked cherry and mild vanilla aroma...</td>\n",
              "      <td>Crianza</td>\n",
              "      <td>Spain</td>\n",
              "      <td>84</td>\n",
              "      <td>12.0</td>\n",
              "      <td>Montecillo</td>\n",
              "      <td>Tempranillo</td>\n",
              "    </tr>\n",
              "    <tr>\n",
              "      <th>51300</th>\n",
              "      <td>Vivác Winery 2008 Single Vineyard Cabernet Sau...</td>\n",
              "      <td>Pungent, high-pitched notes of turmeric and dr...</td>\n",
              "      <td>Single Vineyard</td>\n",
              "      <td>US</td>\n",
              "      <td>85</td>\n",
              "      <td>21.0</td>\n",
              "      <td>Vivác Winery</td>\n",
              "      <td>Cabernet Sauvignon</td>\n",
              "    </tr>\n",
              "    <tr>\n",
              "      <th>51301</th>\n",
              "      <td>Domaine de la Madone 2014 Nouveau  (Beaujolais...</td>\n",
              "      <td>This is a wine that's not just lively and frui...</td>\n",
              "      <td>Nouveau</td>\n",
              "      <td>France</td>\n",
              "      <td>87</td>\n",
              "      <td>14.0</td>\n",
              "      <td>Domaine de la Madone</td>\n",
              "      <td>Gamay</td>\n",
              "    </tr>\n",
              "    <tr>\n",
              "      <th>51302</th>\n",
              "      <td>Round Pond 2010 Estate Cabernet Sauvignon (Rut...</td>\n",
              "      <td>A big, rich, vital Cabernet with immediate att...</td>\n",
              "      <td>Estate</td>\n",
              "      <td>US</td>\n",
              "      <td>92</td>\n",
              "      <td>50.0</td>\n",
              "      <td>Round Pond</td>\n",
              "      <td>Cabernet Sauvignon</td>\n",
              "    </tr>\n",
              "  </tbody>\n",
              "</table>\n",
              "<p>51303 rows × 8 columns</p>\n",
              "</div>"
            ],
            "text/plain": [
              "                                            review_title  ...                     variety\n",
              "0      Andrew Peace 2007 Peace Family Vineyard Chardo...  ...                  Chardonnay\n",
              "1                      Renato Ratti 2007 Conca  (Barolo)  ...                    Nebbiolo\n",
              "2      Domaine l'Ancienne Cure 2010 L'Abbaye White (B...  ...  Bordeaux-style White Blend\n",
              "3      Château du Cèdre 2012 Le Cèdre Vintage Malbec ...  ...                      Malbec\n",
              "4      Andean 2005 Finca La Escondida Reserva Caberne...  ...          Cabernet Sauvignon\n",
              "...                                                  ...  ...                         ...\n",
              "51298  Guillaume Gros 2007 Pourquois Pas Red (Côtes d...  ...       Rhône-style Red Blend\n",
              "51299                   Montecillo 2007 Crianza  (Rioja)  ...                 Tempranillo\n",
              "51300  Vivác Winery 2008 Single Vineyard Cabernet Sau...  ...          Cabernet Sauvignon\n",
              "51301  Domaine de la Madone 2014 Nouveau  (Beaujolais...  ...                       Gamay\n",
              "51302  Round Pond 2010 Estate Cabernet Sauvignon (Rut...  ...          Cabernet Sauvignon\n",
              "\n",
              "[51303 rows x 8 columns]"
            ]
          },
          "metadata": {
            "tags": []
          },
          "execution_count": 22
        }
      ]
    },
    {
      "cell_type": "code",
      "metadata": {
        "id": "JGjFZfjafxMb",
        "colab_type": "code",
        "colab": {
          "base_uri": "https://localhost:8080/",
          "height": 121
        },
        "outputId": "eb3dd97c-90aa-4983-99e8-bd8890089369"
      },
      "source": [
        "data['review_description'].head()"
      ],
      "execution_count": 23,
      "outputs": [
        {
          "output_type": "execute_result",
          "data": {
            "text/plain": [
              "0    Classic Chardonnay aromas of apple, pear and h...\n",
              "1    Barolo Conca opens with inky dark concentratio...\n",
              "2    It's impressive what a small addition of Sauvi...\n",
              "3    This ripe, sweet wine is rich and full of drie...\n",
              "4    Strident aromas of licorice, herbs, berries an...\n",
              "Name: review_description, dtype: object"
            ]
          },
          "metadata": {
            "tags": []
          },
          "execution_count": 23
        }
      ]
    },
    {
      "cell_type": "code",
      "metadata": {
        "id": "hxWDVRn3gC7y",
        "colab_type": "code",
        "colab": {
          "base_uri": "https://localhost:8080/",
          "height": 520
        },
        "outputId": "6dff74bc-7313-48f4-f4f3-3bf250e9e219"
      },
      "source": [
        "var_ = data['variety'].value_counts()\n",
        "var_"
      ],
      "execution_count": 24,
      "outputs": [
        {
          "output_type": "execute_result",
          "data": {
            "text/plain": [
              "Pinot Noir                    7165\n",
              "Chardonnay                    5504\n",
              "Red Blend                     5328\n",
              "Cabernet Sauvignon            4333\n",
              "Riesling                      3137\n",
              "Syrah                         2265\n",
              "Bordeaux-style Red Blend      2175\n",
              "Sauvignon Blanc               2054\n",
              "Rosé                          1677\n",
              "Zinfandel                     1571\n",
              "Portuguese Red                1528\n",
              "Malbec                        1471\n",
              "White Blend                   1433\n",
              "Nebbiolo                      1398\n",
              "Sparkling Blend               1318\n",
              "Merlot                        1196\n",
              "Tempranillo                   1085\n",
              "Sangiovese                    1010\n",
              "Rhône-style Red Blend          872\n",
              "Champagne Blend                792\n",
              "Grüner Veltliner               731\n",
              "Portuguese White               666\n",
              "Cabernet Franc                 607\n",
              "Pinot Gris                     561\n",
              "Gewürztraminer                 512\n",
              "Gamay                          444\n",
              "Pinot Grigio                   284\n",
              "Bordeaux-style White Blend     186\n",
              "Name: variety, dtype: int64"
            ]
          },
          "metadata": {
            "tags": []
          },
          "execution_count": 24
        }
      ]
    },
    {
      "cell_type": "code",
      "metadata": {
        "id": "GSMczL6cROCu",
        "colab_type": "code",
        "colab": {
          "base_uri": "https://localhost:8080/",
          "height": 72
        },
        "outputId": "294d57e1-bd00-4deb-ccb0-a7dc6df680c9"
      },
      "source": [
        "import matplotlib.pyplot as plt\n",
        "import seaborn as sns "
      ],
      "execution_count": 26,
      "outputs": [
        {
          "output_type": "stream",
          "text": [
            "/usr/local/lib/python3.6/dist-packages/statsmodels/tools/_testing.py:19: FutureWarning: pandas.util.testing is deprecated. Use the functions in the public API at pandas.testing instead.\n",
            "  import pandas.util.testing as tm\n"
          ],
          "name": "stderr"
        }
      ]
    },
    {
      "cell_type": "code",
      "metadata": {
        "id": "2ZjtABAygSEB",
        "colab_type": "code",
        "colab": {
          "base_uri": "https://localhost:8080/",
          "height": 572
        },
        "outputId": "bfb10cf9-07fa-4dfb-bcdd-9b0e9cb68109"
      },
      "source": [
        "data = data.groupby('variety').filter(lambda x: len(x) >100)\n",
        "list = data.variety.value_counts().index.tolist()\n",
        "fig4, ax4 = plt.subplots(figsize = (18, 7))\n",
        "sns.countplot(x = 'variety', data = data, order = list, ax = ax4)\n",
        "plt.xticks(rotation = 90)\n",
        "plt.show()"
      ],
      "execution_count": 32,
      "outputs": [
        {
          "output_type": "display_data",
          "data": {
            "image/png": "[encoded data removed]",
            "text/plain": [
              "<Figure size 1296x504 with 1 Axes>"
            ]
          },
          "metadata": {
            "tags": [],
            "needs_background": "light"
          }
        }
      ]
    },
    {
      "cell_type": "code",
      "metadata": {
        "id": "H5HSIfvjRLp2",
        "colab_type": "code",
        "colab": {
          "base_uri": "https://localhost:8080/",
          "height": 104
        },
        "outputId": "04f1df24-b229-4031-f0d9-3b681ee60261"
      },
      "source": [
        "g=data.groupby('variety')\n",
        "data = g.filter(lambda x: len(x) > 100)\n",
        "data['variety'].describe()"
      ],
      "execution_count": 33,
      "outputs": [
        {
          "output_type": "execute_result",
          "data": {
            "text/plain": [
              "count          51303\n",
              "unique            28\n",
              "top       Pinot Noir\n",
              "freq            7165\n",
              "Name: variety, dtype: object"
            ]
          },
          "metadata": {
            "tags": []
          },
          "execution_count": 33
        }
      ]
    },
    {
      "cell_type": "code",
      "metadata": {
        "id": "Xcjt1Sp_Sgt3",
        "colab_type": "code",
        "colab": {
          "base_uri": "https://localhost:8080/",
          "height": 173
        },
        "outputId": "840c3891-cef5-4d04-8949-7c791ce52ff2"
      },
      "source": [
        "target = pd.DataFrame(data['variety'])\n",
        "target.columns = ['variety']\n",
        "data = data.drop('variety', axis = 1)\n",
        "print(target.head())\n",
        "print(data.columns)"
      ],
      "execution_count": 34,
      "outputs": [
        {
          "output_type": "stream",
          "text": [
            "                      variety\n",
            "0                  Chardonnay\n",
            "1                    Nebbiolo\n",
            "2  Bordeaux-style White Blend\n",
            "3                      Malbec\n",
            "4          Cabernet Sauvignon\n",
            "Index(['review_title', 'review_description', 'designation', 'country',\n",
            "       'points', 'price', 'winery'],\n",
            "      dtype='object')\n"
          ],
          "name": "stdout"
        }
      ]
    },
    {
      "cell_type": "code",
      "metadata": {
        "id": "MU1y-bfnSp8M",
        "colab_type": "code",
        "colab": {
          "base_uri": "https://localhost:8080/",
          "height": 35
        },
        "outputId": "3aeb58ee-c809-4b48-d12a-54cd5d10fe9d"
      },
      "source": [
        "target.shape"
      ],
      "execution_count": 35,
      "outputs": [
        {
          "output_type": "execute_result",
          "data": {
            "text/plain": [
              "(51303, 1)"
            ]
          },
          "metadata": {
            "tags": []
          },
          "execution_count": 35
        }
      ]
    },
    {
      "cell_type": "code",
      "metadata": {
        "id": "tgkBvgExVVh8",
        "colab_type": "code",
        "colab": {
          "base_uri": "https://localhost:8080/",
          "height": 35
        },
        "outputId": "b12e60f9-fe89-4add-d6a0-733f4cb3fc87"
      },
      "source": [
        "data.shape"
      ],
      "execution_count": 38,
      "outputs": [
        {
          "output_type": "execute_result",
          "data": {
            "text/plain": [
              "(51303, 7)"
            ]
          },
          "metadata": {
            "tags": []
          },
          "execution_count": 38
        }
      ]
    },
    {
      "cell_type": "code",
      "metadata": {
        "id": "FrLKKjjKVXmx",
        "colab_type": "code",
        "colab": {}
      },
      "source": [
        "target.to_pickle('/content/drive/My Drive/Knight ML Assignment/pickels/target')"
      ],
      "execution_count": 0,
      "outputs": []
    },
    {
      "cell_type": "code",
      "metadata": {
        "id": "qeAGugA5Vyv3",
        "colab_type": "code",
        "colab": {}
      },
      "source": [
        "target = pd.read_pickle('/content/drive/My Drive/Knight ML Assignment/pickels/target')"
      ],
      "execution_count": 0,
      "outputs": []
    },
    {
      "cell_type": "code",
      "metadata": {
        "id": "39Mz0ZXPX4l8",
        "colab_type": "code",
        "colab": {}
      },
      "source": [
        "from collections import Counter"
      ],
      "execution_count": 0,
      "outputs": []
    },
    {
      "cell_type": "code",
      "metadata": {
        "id": "tdOC0_4YXwN6",
        "colab_type": "code",
        "colab": {
          "base_uri": "https://localhost:8080/",
          "height": 503
        },
        "outputId": "cbb47c14-3f0a-43ac-8b15-16864592f19c"
      },
      "source": [
        "Counter(target['variety'])"
      ],
      "execution_count": 66,
      "outputs": [
        {
          "output_type": "execute_result",
          "data": {
            "text/plain": [
              "Counter({'Bordeaux-style Red Blend': 2175,\n",
              "         'Bordeaux-style White Blend': 186,\n",
              "         'Cabernet Franc': 607,\n",
              "         'Cabernet Sauvignon': 4333,\n",
              "         'Champagne Blend': 792,\n",
              "         'Chardonnay': 5504,\n",
              "         'Gamay': 444,\n",
              "         'Gewürztraminer': 512,\n",
              "         'Grüner Veltliner': 731,\n",
              "         'Malbec': 1471,\n",
              "         'Merlot': 1196,\n",
              "         'Nebbiolo': 1398,\n",
              "         'Pinot Grigio': 284,\n",
              "         'Pinot Gris': 561,\n",
              "         'Pinot Noir': 7165,\n",
              "         'Portuguese Red': 1528,\n",
              "         'Portuguese White': 666,\n",
              "         'Red Blend': 5328,\n",
              "         'Rhône-style Red Blend': 872,\n",
              "         'Riesling': 3137,\n",
              "         'Rosé': 1677,\n",
              "         'Sangiovese': 1010,\n",
              "         'Sauvignon Blanc': 2054,\n",
              "         'Sparkling Blend': 1318,\n",
              "         'Syrah': 2265,\n",
              "         'Tempranillo': 1085,\n",
              "         'White Blend': 1433,\n",
              "         'Zinfandel': 1571})"
            ]
          },
          "metadata": {
            "tags": []
          },
          "execution_count": 66
        }
      ]
    },
    {
      "cell_type": "code",
      "metadata": {
        "id": "tH_UG5qWYUAE",
        "colab_type": "code",
        "colab": {}
      },
      "source": [
        "import nltk\n",
        "from nltk.corpus import stopwords\n",
        "from nltk.tokenize import word_tokenize\n",
        "from sklearn.metrics.classification import accuracy_score, log_loss\n",
        "from sklearn.linear_model import  SGDClassifier\n",
        "from sklearn.calibration import CalibratedClassifierCV\n",
        "from sklearn.feature_extraction.text import CountVectorizer\n",
        "from sklearn.feature_extraction.text import TfidfVectorizer\n",
        "from sklearn.model_selection import train_test_split"
      ],
      "execution_count": 0,
      "outputs": []
    },
    {
      "cell_type": "code",
      "metadata": {
        "id": "XKNFfSoAYxxG",
        "colab_type": "code",
        "colab": {
          "base_uri": "https://localhost:8080/",
          "height": 69
        },
        "outputId": "c70cdfe9-66c6-43ff-cab5-b7bdb8a8e1d9"
      },
      "source": [
        "nltk.download('stopwords')"
      ],
      "execution_count": 55,
      "outputs": [
        {
          "output_type": "stream",
          "text": [
            "[nltk_data] Downloading package stopwords to /root/nltk_data...\n",
            "[nltk_data]   Unzipping corpora/stopwords.zip.\n"
          ],
          "name": "stdout"
        },
        {
          "output_type": "execute_result",
          "data": {
            "text/plain": [
              "True"
            ]
          },
          "metadata": {
            "tags": []
          },
          "execution_count": 55
        }
      ]
    },
    {
      "cell_type": "code",
      "metadata": {
        "id": "czM9B_hpXw4l",
        "colab_type": "code",
        "colab": {
          "base_uri": "https://localhost:8080/",
          "height": 55
        },
        "outputId": "780914dc-3e77-4fad-d9a7-5289dae1878e"
      },
      "source": [
        "stop_words = set(stopwords.words('english'))\n",
        "print ('list of stop words:', stop_words)\n",
        "\n",
        "def nlp_preprocessing(total_text, index, column):\n",
        "    if type(total_text) is not int:\n",
        "        string = \"\"\n",
        "        for words in total_text.split():\n",
        "            # remove the special chars in review like '\"#$@!%^&*()_+-~?>< etc.\n",
        "            word = (\"\".join(e for e in words if e.isalnum()))\n",
        "            # Conver all letters to lower-case\n",
        "            word = word.lower()\n",
        "            # stop-word removal\n",
        "            if not word in stop_words:\n",
        "                string += word + \" \"\n",
        "        data[column][index] = string"
      ],
      "execution_count": 56,
      "outputs": [
        {
          "output_type": "stream",
          "text": [
            "list of stop words: {'again', 'we', 'herself', 'don', 'haven', 'some', 'such', 'this', \"needn't\", \"won't\", 'once', 'all', \"you'd\", 'any', 'aren', 'from', 'how', 'as', 'needn', \"it's\", \"you're\", 'down', \"don't\", 'it', \"wouldn't\", 'in', 'shan', 'can', 'who', 'my', 'these', 're', \"didn't\", 'he', 'up', 'be', 'both', 'into', 'didn', 'about', 'having', 'is', 'him', 'ours', 'which', \"isn't\", 'very', \"shan't\", 'through', 'only', 'should', 'each', 'a', 'myself', 'i', 'of', 'ain', 'further', 'an', 'while', 'then', 'its', 'did', 'because', 'why', 'she', 'themselves', 'mightn', \"shouldn't\", 'here', 'just', 'am', 'y', \"wasn't\", 'hasn', 'yourselves', 'but', 'wasn', 'yourself', 'few', 'weren', 'the', 'mustn', \"that'll\", 'do', 'too', 'has', 'whom', 'after', 'there', \"hadn't\", 'himself', 'on', 'was', \"mustn't\", 'have', 've', 'had', 'his', 'with', 'o', 'against', \"aren't\", 'at', 'below', 'were', 'wouldn', 'between', 'most', 'd', 'by', 'nor', \"you'll\", 'where', 'couldn', 'shouldn', 'm', 'other', 'under', 'are', 'our', 'ma', 'your', 'or', 'they', 'been', 'being', 'and', 's', 'isn', 'during', \"she's\", 'to', 'yours', 'more', 'now', 'out', \"should've\", 'doesn', 't', \"hasn't\", 'over', 'so', 'when', 'own', 'before', \"weren't\", 'll', 'them', 'what', 'if', \"mightn't\", 'hers', 'same', 'not', 'ourselves', 'does', 'than', \"haven't\", \"doesn't\", \"couldn't\", 'won', 'off', 'their', 'no', 'that', 'hadn', 'her', 'for', 'until', 'itself', 'theirs', 'me', 'those', 'doing', \"you've\", 'you', 'will', 'above'}\n"
          ],
          "name": "stdout"
        }
      ]
    },
    {
      "cell_type": "code",
      "metadata": {
        "id": "08Ah8HFSYL5f",
        "colab_type": "code",
        "colab": {
          "base_uri": "https://localhost:8080/",
          "height": 503
        },
        "outputId": "6107cf3b-4a8e-42a7-fd9c-77b8b96973f0"
      },
      "source": [
        "target['variety'] = target['variety'].astype('category')\n",
        "cat_columns = target.select_dtypes(['category']).columns\n",
        "target[cat_columns] = target[cat_columns].apply(lambda x: x.cat.codes)\n",
        "Counter(target['variety'])"
      ],
      "execution_count": 67,
      "outputs": [
        {
          "output_type": "execute_result",
          "data": {
            "text/plain": [
              "Counter({0: 2175,\n",
              "         1: 186,\n",
              "         2: 607,\n",
              "         3: 4333,\n",
              "         4: 792,\n",
              "         5: 5504,\n",
              "         6: 444,\n",
              "         7: 512,\n",
              "         8: 731,\n",
              "         9: 1471,\n",
              "         10: 1196,\n",
              "         11: 1398,\n",
              "         12: 284,\n",
              "         13: 561,\n",
              "         14: 7165,\n",
              "         15: 1528,\n",
              "         16: 666,\n",
              "         17: 5328,\n",
              "         18: 872,\n",
              "         19: 3137,\n",
              "         20: 1677,\n",
              "         21: 1010,\n",
              "         22: 2054,\n",
              "         23: 1318,\n",
              "         24: 2265,\n",
              "         25: 1085,\n",
              "         26: 1433,\n",
              "         27: 1571})"
            ]
          },
          "metadata": {
            "tags": []
          },
          "execution_count": 67
        }
      ]
    },
    {
      "cell_type": "code",
      "metadata": {
        "id": "-PNSae8pkX5f",
        "colab_type": "code",
        "colab": {}
      },
      "source": [
        "X_train, test_df, y_train, y_test = train_test_split(data, target, stratify = target, test_size=0.2)\n",
        "# split the train data into train and cross validation by maintaining same distribution of output varaible 'y_train' [stratify=y_train]\n",
        "train_df, cv_df, y_train, y_cv = train_test_split(X_train, y_train, stratify=y_train, test_size=0.2)"
      ],
      "execution_count": 0,
      "outputs": []
    },
    {
      "cell_type": "code",
      "metadata": {
        "id": "JH01oKjpk7w1",
        "colab_type": "code",
        "colab": {
          "base_uri": "https://localhost:8080/",
          "height": 69
        },
        "outputId": "2d2cc39e-95d9-43c4-a103-d21fe9ef71ce"
      },
      "source": [
        "print(train_df.shape)\n",
        "print(cv_df.shape)\n",
        "print(test_df.shape)"
      ],
      "execution_count": 72,
      "outputs": [
        {
          "output_type": "stream",
          "text": [
            "(32833, 7)\n",
            "(8209, 7)\n",
            "(10261, 7)\n"
          ],
          "name": "stdout"
        }
      ]
    },
    {
      "cell_type": "code",
      "metadata": {
        "id": "ucwpBLdJlUOZ",
        "colab_type": "code",
        "colab": {}
      },
      "source": [
        "desc_vectorizer = CountVectorizer()\n",
        "train_description_feature_onehotCoding = desc_vectorizer.fit_transform(train_df['review_description'])\n",
        "test_description_feature_onehotCoding = desc_vectorizer.transform(test_df['review_description'])\n",
        "cv_description_feature_onehotCoding = desc_vectorizer.transform(cv_df['review_description'])"
      ],
      "execution_count": 0,
      "outputs": []
    },
    {
      "cell_type": "code",
      "metadata": {
        "id": "ToaDUcCKlk4h",
        "colab_type": "code",
        "colab": {
          "base_uri": "https://localhost:8080/",
          "height": 35
        },
        "outputId": "7d4b499d-4ee2-440a-91d3-144abbc598f5"
      },
      "source": [
        "train_description_feature_onehotCoding.shape"
      ],
      "execution_count": 75,
      "outputs": [
        {
          "output_type": "execute_result",
          "data": {
            "text/plain": [
              "(32833, 19133)"
            ]
          },
          "metadata": {
            "tags": []
          },
          "execution_count": 75
        }
      ]
    },
    {
      "cell_type": "code",
      "metadata": {
        "id": "0CGkWWWrmTCN",
        "colab_type": "code",
        "colab": {}
      },
      "source": [
        "import numpy as np"
      ],
      "execution_count": 0,
      "outputs": []
    },
    {
      "cell_type": "code",
      "metadata": {
        "id": "fFmatnlhfJXN",
        "colab_type": "code",
        "colab": {
          "base_uri": "https://localhost:8080/",
          "height": 1000
        },
        "outputId": "7b5b43bf-1708-4c4c-8765-6524ff4064c8"
      },
      "source": [
        "from sklearn.naive_bayes import MultinomialNB\n",
        "alpha = [0.00001, 0.0001, 0.001, 0.1, 1, 10, 100,1000]\n",
        "cv_accuracy_array = []\n",
        "for i in alpha:\n",
        "    print(\"for alpha =\", i)\n",
        "    clf = MultinomialNB(alpha=i)\n",
        "    clf.fit(train_description_feature_onehotCoding, y_train)\n",
        "    sig_clf = CalibratedClassifierCV(clf, method=\"sigmoid\")\n",
        "    sig_clf.fit(train_description_feature_onehotCoding, y_train)\n",
        "    sig_clf_probs = sig_clf.predict(cv_description_feature_onehotCoding)\n",
        "    cv_accuracy_array.append(accuracy_score(y_cv, sig_clf_probs))\n",
        "    # to avoid rounding error while multiplying probabilites we use log-probability estimates\n",
        "    print(\"accuracy :\",accuracy_score(y_cv, sig_clf_probs)) \n",
        "\n",
        "fig, ax = plt.subplots()\n",
        "ax.plot(np.log10(alpha), cv_accuracy_array,c='g')\n",
        "for i, txt in enumerate(np.round(cv_accuracy_array,3)):\n",
        "    ax.annotate((alpha[i],str(txt)), (np.log10(alpha[i]),cv_accuracy_array[i]))\n",
        "plt.grid()\n",
        "plt.xticks(np.log10(alpha))\n",
        "plt.title(\"Cross Validation Error for each alpha\")\n",
        "plt.xlabel(\"Alpha i's\")\n",
        "plt.ylabel(\"Error measure\")\n",
        "plt.show()\n",
        "\n",
        "\n",
        "best_alpha = np.argmax(cv_accuracy_array)\n",
        "clf = MultinomialNB(alpha = alpha[best_alpha])\n",
        "clf.fit(train_description_feature_onehotCoding, y_train)\n",
        "sig_clf = CalibratedClassifierCV(clf, method = \"sigmoid\")\n",
        "sig_clf.fit(train_description_feature_onehotCoding, y_train)\n",
        "\n",
        "\n",
        "predict_y = sig_clf.predict(train_description_feature_onehotCoding)\n",
        "print('For values of best alpha = ', alpha[best_alpha], \"The train accuracy is:\",accuracy_score(y_train, predict_y))\n",
        "predict_y = sig_clf.predict(cv_description_feature_onehotCoding)\n",
        "print('For values of best alpha = ', alpha[best_alpha], \"The cross validation accuracy is:\",accuracy_score(y_cv, predict_y))\n",
        "predict_y = sig_clf.predict(test_description_feature_onehotCoding)\n",
        "print('For values of best alpha = ', alpha[best_alpha], \"The test accuracy is:\",accuracy_score(y_test, predict_y))"
      ],
      "execution_count": 78,
      "outputs": [
        {
          "output_type": "stream",
          "text": [
            "for alpha = 1e-05\n"
          ],
          "name": "stdout"
        },
        {
          "output_type": "stream",
          "text": [
            "/usr/local/lib/python3.6/dist-packages/sklearn/utils/validation.py:760: DataConversionWarning: A column-vector y was passed when a 1d array was expected. Please change the shape of y to (n_samples, ), for example using ravel().\n",
            "  y = column_or_1d(y, warn=True)\n",
            "/usr/local/lib/python3.6/dist-packages/sklearn/utils/validation.py:760: DataConversionWarning: A column-vector y was passed when a 1d array was expected. Please change the shape of y to (n_samples, ), for example using ravel().\n",
            "  y = column_or_1d(y, warn=True)\n"
          ],
          "name": "stderr"
        },
        {
          "output_type": "stream",
          "text": [
            "accuracy : 0.5503715434279449\n",
            "for alpha = 0.0001\n"
          ],
          "name": "stdout"
        },
        {
          "output_type": "stream",
          "text": [
            "/usr/local/lib/python3.6/dist-packages/sklearn/utils/validation.py:760: DataConversionWarning: A column-vector y was passed when a 1d array was expected. Please change the shape of y to (n_samples, ), for example using ravel().\n",
            "  y = column_or_1d(y, warn=True)\n",
            "/usr/local/lib/python3.6/dist-packages/sklearn/utils/validation.py:760: DataConversionWarning: A column-vector y was passed when a 1d array was expected. Please change the shape of y to (n_samples, ), for example using ravel().\n",
            "  y = column_or_1d(y, warn=True)\n"
          ],
          "name": "stderr"
        },
        {
          "output_type": "stream",
          "text": [
            "accuracy : 0.5641369228895116\n",
            "for alpha = 0.001\n"
          ],
          "name": "stdout"
        },
        {
          "output_type": "stream",
          "text": [
            "/usr/local/lib/python3.6/dist-packages/sklearn/utils/validation.py:760: DataConversionWarning: A column-vector y was passed when a 1d array was expected. Please change the shape of y to (n_samples, ), for example using ravel().\n",
            "  y = column_or_1d(y, warn=True)\n",
            "/usr/local/lib/python3.6/dist-packages/sklearn/utils/validation.py:760: DataConversionWarning: A column-vector y was passed when a 1d array was expected. Please change the shape of y to (n_samples, ), for example using ravel().\n",
            "  y = column_or_1d(y, warn=True)\n"
          ],
          "name": "stderr"
        },
        {
          "output_type": "stream",
          "text": [
            "accuracy : 0.58009501766354\n",
            "for alpha = 0.1\n"
          ],
          "name": "stdout"
        },
        {
          "output_type": "stream",
          "text": [
            "/usr/local/lib/python3.6/dist-packages/sklearn/utils/validation.py:760: DataConversionWarning: A column-vector y was passed when a 1d array was expected. Please change the shape of y to (n_samples, ), for example using ravel().\n",
            "  y = column_or_1d(y, warn=True)\n",
            "/usr/local/lib/python3.6/dist-packages/sklearn/utils/validation.py:760: DataConversionWarning: A column-vector y was passed when a 1d array was expected. Please change the shape of y to (n_samples, ), for example using ravel().\n",
            "  y = column_or_1d(y, warn=True)\n"
          ],
          "name": "stderr"
        },
        {
          "output_type": "stream",
          "text": [
            "accuracy : 0.610183944451212\n",
            "for alpha = 1\n"
          ],
          "name": "stdout"
        },
        {
          "output_type": "stream",
          "text": [
            "/usr/local/lib/python3.6/dist-packages/sklearn/utils/validation.py:760: DataConversionWarning: A column-vector y was passed when a 1d array was expected. Please change the shape of y to (n_samples, ), for example using ravel().\n",
            "  y = column_or_1d(y, warn=True)\n",
            "/usr/local/lib/python3.6/dist-packages/sklearn/utils/validation.py:760: DataConversionWarning: A column-vector y was passed when a 1d array was expected. Please change the shape of y to (n_samples, ), for example using ravel().\n",
            "  y = column_or_1d(y, warn=True)\n"
          ],
          "name": "stderr"
        },
        {
          "output_type": "stream",
          "text": [
            "accuracy : 0.5621878426117676\n",
            "for alpha = 10\n"
          ],
          "name": "stdout"
        },
        {
          "output_type": "stream",
          "text": [
            "/usr/local/lib/python3.6/dist-packages/sklearn/utils/validation.py:760: DataConversionWarning: A column-vector y was passed when a 1d array was expected. Please change the shape of y to (n_samples, ), for example using ravel().\n",
            "  y = column_or_1d(y, warn=True)\n",
            "/usr/local/lib/python3.6/dist-packages/sklearn/utils/validation.py:760: DataConversionWarning: A column-vector y was passed when a 1d array was expected. Please change the shape of y to (n_samples, ), for example using ravel().\n",
            "  y = column_or_1d(y, warn=True)\n"
          ],
          "name": "stderr"
        },
        {
          "output_type": "stream",
          "text": [
            "accuracy : 0.36801071994152756\n",
            "for alpha = 100\n"
          ],
          "name": "stdout"
        },
        {
          "output_type": "stream",
          "text": [
            "/usr/local/lib/python3.6/dist-packages/sklearn/utils/validation.py:760: DataConversionWarning: A column-vector y was passed when a 1d array was expected. Please change the shape of y to (n_samples, ), for example using ravel().\n",
            "  y = column_or_1d(y, warn=True)\n",
            "/usr/local/lib/python3.6/dist-packages/sklearn/utils/validation.py:760: DataConversionWarning: A column-vector y was passed when a 1d array was expected. Please change the shape of y to (n_samples, ), for example using ravel().\n",
            "  y = column_or_1d(y, warn=True)\n"
          ],
          "name": "stderr"
        },
        {
          "output_type": "stream",
          "text": [
            "accuracy : 0.29492020952612985\n",
            "for alpha = 1000\n"
          ],
          "name": "stdout"
        },
        {
          "output_type": "stream",
          "text": [
            "/usr/local/lib/python3.6/dist-packages/sklearn/utils/validation.py:760: DataConversionWarning: A column-vector y was passed when a 1d array was expected. Please change the shape of y to (n_samples, ), for example using ravel().\n",
            "  y = column_or_1d(y, warn=True)\n",
            "/usr/local/lib/python3.6/dist-packages/sklearn/utils/validation.py:760: DataConversionWarning: A column-vector y was passed when a 1d array was expected. Please change the shape of y to (n_samples, ), for example using ravel().\n",
            "  y = column_or_1d(y, warn=True)\n"
          ],
          "name": "stderr"
        },
        {
          "output_type": "stream",
          "text": [
            "accuracy : 0.2679985381897917\n"
          ],
          "name": "stdout"
        },
        {
          "output_type": "display_data",
          "data": {
            "image/png": "[encoded data removed]",
            "text/plain": [
              "<Figure size 432x288 with 1 Axes>"
            ]
          },
          "metadata": {
            "tags": [],
            "needs_background": "light"
          }
        },
        {
          "output_type": "stream",
          "text": [
            "/usr/local/lib/python3.6/dist-packages/sklearn/utils/validation.py:760: DataConversionWarning: A column-vector y was passed when a 1d array was expected. Please change the shape of y to (n_samples, ), for example using ravel().\n",
            "  y = column_or_1d(y, warn=True)\n",
            "/usr/local/lib/python3.6/dist-packages/sklearn/utils/validation.py:760: DataConversionWarning: A column-vector y was passed when a 1d array was expected. Please change the shape of y to (n_samples, ), for example using ravel().\n",
            "  y = column_or_1d(y, warn=True)\n"
          ],
          "name": "stderr"
        },
        {
          "output_type": "stream",
          "text": [
            "For values of best alpha =  0.1 The train accuracy is: 0.7769317454999544\n",
            "For values of best alpha =  0.1 The cross validation accuracy is: 0.610183944451212\n",
            "For values of best alpha =  0.1 The test accuracy is: 0.6034499561446253\n"
          ],
          "name": "stdout"
        }
      ]
    },
    {
      "cell_type": "code",
      "metadata": {
        "id": "s5QA6rsWpETR",
        "colab_type": "code",
        "colab": {
          "base_uri": "https://localhost:8080/",
          "height": 35
        },
        "outputId": "404da4f4-2d63-44b9-f9f4-e428031608f6"
      },
      "source": [
        "predict_y"
      ],
      "execution_count": 83,
      "outputs": [
        {
          "output_type": "execute_result",
          "data": {
            "text/plain": [
              "array([17,  5, 14, ...,  7,  9,  3], dtype=int8)"
            ]
          },
          "metadata": {
            "tags": []
          },
          "execution_count": 83
        }
      ]
    },
    {
      "cell_type": "code",
      "metadata": {
        "id": "VYXHtV7Lkek-",
        "colab_type": "code",
        "colab": {
          "base_uri": "https://localhost:8080/",
          "height": 714
        },
        "outputId": "cfc685fc-aa39-4af9-fe6e-108ccdf1c562"
      },
      "source": [
        "alpha = [10 ** x for x in range(-5, 1)]\n",
        "cv_accuracy_array=[]\n",
        "for i in alpha:\n",
        "    clf = SGDClassifier(alpha=i, penalty='l2', loss='hinge', random_state=42)\n",
        "    clf.fit(train_description_feature_onehotCoding, y_train)\n",
        "    \n",
        "    sig_clf = CalibratedClassifierCV(clf, method=\"sigmoid\")\n",
        "    sig_clf.fit(train_description_feature_onehotCoding, y_train)\n",
        "    predict_y = sig_clf.predict(cv_description_feature_onehotCoding)\n",
        "    \n",
        "    cv_accuracy_array.append(accuracy_score(y_cv, predict_y))\n",
        "    print('For values of alpha = ', i, \"The accuracy loss is:\",accuracy_score(y_cv, predict_y))\n",
        "\n",
        "fig, ax = plt.subplots()\n",
        "ax.plot(alpha, cv_accuracy_array,c='g')\n",
        "for i, txt in enumerate(np.round(cv_accuracy_array,3)):\n",
        "    ax.annotate((alpha[i],np.round(txt,3)), (alpha[i],cv_accuracy_array[i]))\n",
        "plt.grid()\n",
        "plt.title(\"Cross Validation Error for each alpha\")\n",
        "plt.xlabel(\"Alpha i's\")\n",
        "plt.ylabel(\"Error measure\")\n",
        "plt.show()\n",
        "\n",
        "\n",
        "best_alpha = np.argmax(cv_accuracy_array)\n",
        "clf = SGDClassifier(alpha=alpha[best_alpha], penalty='l2', loss='hinge', random_state=42)\n",
        "clf.fit(train_description_feature_onehotCoding, y_train)\n",
        "sig_clf = CalibratedClassifierCV(clf, method=\"sigmoid\")\n",
        "sig_clf.fit(train_description_feature_onehotCoding, y_train)\n",
        "\n",
        "predict_y = sig_clf.predict(train_description_feature_onehotCoding)\n",
        "print('For values of best alpha = ', alpha[best_alpha], \"The train accuracy is:\",accuracy_score(y_train, predict_y))\n",
        "predict_y = sig_clf.predict(cv_description_feature_onehotCoding)\n",
        "print('For values of best alpha = ', alpha[best_alpha], \"The cross validation accuracy is:\",accuracy_score(y_cv, predict_y))\n",
        "predict_y = sig_clf.predict(test_description_feature_onehotCoding)\n",
        "print('For values of best alpha = ', alpha[best_alpha], \"The test accuracy is:\",accuracy_score(y_test, predict_y))"
      ],
      "execution_count": 79,
      "outputs": [
        {
          "output_type": "stream",
          "text": [
            "/usr/local/lib/python3.6/dist-packages/sklearn/utils/validation.py:760: DataConversionWarning: A column-vector y was passed when a 1d array was expected. Please change the shape of y to (n_samples, ), for example using ravel().\n",
            "  y = column_or_1d(y, warn=True)\n"
          ],
          "name": "stderr"
        },
        {
          "output_type": "stream",
          "text": [
            "For values of alpha =  1e-05 The accuracy loss is: 0.6547691558046047\n"
          ],
          "name": "stdout"
        },
        {
          "output_type": "stream",
          "text": [
            "/usr/local/lib/python3.6/dist-packages/sklearn/utils/validation.py:760: DataConversionWarning: A column-vector y was passed when a 1d array was expected. Please change the shape of y to (n_samples, ), for example using ravel().\n",
            "  y = column_or_1d(y, warn=True)\n"
          ],
          "name": "stderr"
        },
        {
          "output_type": "stream",
          "text": [
            "For values of alpha =  0.0001 The accuracy loss is: 0.6749908636861981\n"
          ],
          "name": "stdout"
        },
        {
          "output_type": "stream",
          "text": [
            "/usr/local/lib/python3.6/dist-packages/sklearn/utils/validation.py:760: DataConversionWarning: A column-vector y was passed when a 1d array was expected. Please change the shape of y to (n_samples, ), for example using ravel().\n",
            "  y = column_or_1d(y, warn=True)\n"
          ],
          "name": "stderr"
        },
        {
          "output_type": "stream",
          "text": [
            "For values of alpha =  0.001 The accuracy loss is: 0.6808381045194299\n"
          ],
          "name": "stdout"
        },
        {
          "output_type": "stream",
          "text": [
            "/usr/local/lib/python3.6/dist-packages/sklearn/utils/validation.py:760: DataConversionWarning: A column-vector y was passed when a 1d array was expected. Please change the shape of y to (n_samples, ), for example using ravel().\n",
            "  y = column_or_1d(y, warn=True)\n"
          ],
          "name": "stderr"
        },
        {
          "output_type": "stream",
          "text": [
            "For values of alpha =  0.01 The accuracy loss is: 0.6001949080277744\n"
          ],
          "name": "stdout"
        },
        {
          "output_type": "stream",
          "text": [
            "/usr/local/lib/python3.6/dist-packages/sklearn/utils/validation.py:760: DataConversionWarning: A column-vector y was passed when a 1d array was expected. Please change the shape of y to (n_samples, ), for example using ravel().\n",
            "  y = column_or_1d(y, warn=True)\n"
          ],
          "name": "stderr"
        },
        {
          "output_type": "stream",
          "text": [
            "For values of alpha =  0.1 The accuracy loss is: 0.3957851138993787\n"
          ],
          "name": "stdout"
        },
        {
          "output_type": "stream",
          "text": [
            "/usr/local/lib/python3.6/dist-packages/sklearn/utils/validation.py:760: DataConversionWarning: A column-vector y was passed when a 1d array was expected. Please change the shape of y to (n_samples, ), for example using ravel().\n",
            "  y = column_or_1d(y, warn=True)\n"
          ],
          "name": "stderr"
        },
        {
          "output_type": "stream",
          "text": [
            "For values of alpha =  1 The accuracy loss is: 0.1551955171153612\n"
          ],
          "name": "stdout"
        },
        {
          "output_type": "display_data",
          "data": {
            "image/png": "[encoded data removed]",
            "text/plain": [
              "<Figure size 432x288 with 1 Axes>"
            ]
          },
          "metadata": {
            "tags": [],
            "needs_background": "light"
          }
        },
        {
          "output_type": "stream",
          "text": [
            "/usr/local/lib/python3.6/dist-packages/sklearn/utils/validation.py:760: DataConversionWarning: A column-vector y was passed when a 1d array was expected. Please change the shape of y to (n_samples, ), for example using ravel().\n",
            "  y = column_or_1d(y, warn=True)\n"
          ],
          "name": "stderr"
        },
        {
          "output_type": "stream",
          "text": [
            "For values of best alpha =  0.001 The train accuracy is: 0.7827490634422685\n",
            "For values of best alpha =  0.001 The cross validation accuracy is: 0.6808381045194299\n",
            "For values of best alpha =  0.001 The test accuracy is: 0.6762498781795147\n"
          ],
          "name": "stdout"
        }
      ]
    },
    {
      "cell_type": "code",
      "metadata": {
        "id": "SZPFvLiamxg6",
        "colab_type": "code",
        "colab": {
          "base_uri": "https://localhost:8080/",
          "height": 35
        },
        "outputId": "09b52fb3-7090-4c74-b15d-820222fef265"
      },
      "source": [
        "# prediction\n",
        "predict_y"
      ],
      "execution_count": 84,
      "outputs": [
        {
          "output_type": "execute_result",
          "data": {
            "text/plain": [
              "array([17,  5, 14, ...,  7,  9,  3], dtype=int8)"
            ]
          },
          "metadata": {
            "tags": []
          },
          "execution_count": 84
        }
      ]
    },
    {
      "cell_type": "code",
      "metadata": {
        "id": "eD41hXVpoUMx",
        "colab_type": "code",
        "colab": {}
      },
      "source": [
        ""
      ],
      "execution_count": 0,
      "outputs": []
    }
  ]
}